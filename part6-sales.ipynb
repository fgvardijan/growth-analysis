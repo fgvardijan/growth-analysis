{
 "cells": [
  {
   "cell_type": "markdown",
   "metadata": {},
   "source": [
    "# Part 6: Predicting Sales\n",
    "\n",
    "Up to this point, almost all our prediction models were on customer level (e.g. churn prediction, next purchase day, etc.). It is useful to zoom out and look at the broader picture as well. By considering all our efforts on the customer side, how do we affect the sales?\n",
    "\n",
    "Time series forecasting is one of the major building blocks of Machine Learning. There are many methods in the literature to achieve this like:\n",
    "* Autoregressive Integrated Moving Average (ARIMA), \n",
    "* Seasonal Autoregressive Integrated Moving-Average (SARIMA), \n",
    "* Vector Autoregression (VAR), and so on.\n",
    "\n",
    "In this notebook, we will focus on **Long Short-term Memory** (LSTM) method, which is a quite popular one if you want to use Deep Learning. We will use [Keras](https://keras.io/) in our project to implement LSTM.\n",
    "\n",
    "\n",
    "### How does knowing the future sales helps our business?\n",
    "1. First of all, it is a __benchmark__. We can use it as the business as usual level we are going to achieve if nothing changes in our strategy. Moreover, we can calculate the incremental value of our new actions on top of this benchmark.\n",
    "1. Second, it can be utilized for __planning__. We can plan our demand and supply actions by looking at the forecasts. It helps to see where to invest more.\n",
    "1. Last but not least, it is an excellent __guide__ for planning budgets and targets.\n",
    "\n",
    "\n",
    "Work in this notebook is divided into 3 steps:\n",
    "* Data Wrangling\n",
    "* Data Transformation to make it stationary and supervised\n",
    "* Building the LSTM model & evaluation\n",
    "\n",
    "## Data Wrangling\n",
    "In this example, we use the dataset from a Kaggle competition. It represents the daily sales for each store and item.\n",
    "* date - Date of the sale data. There are no holiday effects or store closures.\n",
    "* store - Store ID\n",
    "* item - Item ID\n",
    "* sales - Number of items sold at a particular store on a particular date."
   ]
  },
  {
   "cell_type": "code",
   "execution_count": 1,
   "metadata": {},
   "outputs": [],
   "source": [
    "# import libraries\n",
    "import pandas as pd\n",
    "import matplotlib.pyplot as plt\n",
    "import matplotlib.ticker as ticker\n",
    "import numpy as np\n",
    "import seaborn as sns\n",
    "%matplotlib inline\n",
    "\n",
    "#do not show warnings\n",
    "import warnings\n",
    "warnings.filterwarnings(\"ignore\")"
   ]
  },
  {
   "cell_type": "code",
   "execution_count": 2,
   "metadata": {},
   "outputs": [
    {
     "name": "stderr",
     "output_type": "stream",
     "text": [
      "Using TensorFlow backend.\n"
     ]
    }
   ],
   "source": [
    "#import machine learning related libraries\n",
    "import keras\n",
    "from keras.layers import Dense\n",
    "from keras.models import Sequential\n",
    "from keras.optimizers import Adam \n",
    "from keras.callbacks import EarlyStopping\n",
    "from keras.utils import np_utils\n",
    "from keras.layers import LSTM\n",
    "from sklearn.model_selection import cross_val_score, train_test_split"
   ]
  },
  {
   "cell_type": "code",
   "execution_count": 3,
   "metadata": {},
   "outputs": [
    {
     "data": {
      "text/html": [
       "<div>\n",
       "<style scoped>\n",
       "    .dataframe tbody tr th:only-of-type {\n",
       "        vertical-align: middle;\n",
       "    }\n",
       "\n",
       "    .dataframe tbody tr th {\n",
       "        vertical-align: top;\n",
       "    }\n",
       "\n",
       "    .dataframe thead th {\n",
       "        text-align: right;\n",
       "    }\n",
       "</style>\n",
       "<table border=\"1\" class=\"dataframe\">\n",
       "  <thead>\n",
       "    <tr style=\"text-align: right;\">\n",
       "      <th></th>\n",
       "      <th>date</th>\n",
       "      <th>store</th>\n",
       "      <th>item</th>\n",
       "      <th>sales</th>\n",
       "    </tr>\n",
       "  </thead>\n",
       "  <tbody>\n",
       "    <tr>\n",
       "      <th>0</th>\n",
       "      <td>2013-01-01</td>\n",
       "      <td>1</td>\n",
       "      <td>1</td>\n",
       "      <td>13</td>\n",
       "    </tr>\n",
       "    <tr>\n",
       "      <th>1</th>\n",
       "      <td>2013-01-02</td>\n",
       "      <td>1</td>\n",
       "      <td>1</td>\n",
       "      <td>11</td>\n",
       "    </tr>\n",
       "    <tr>\n",
       "      <th>2</th>\n",
       "      <td>2013-01-03</td>\n",
       "      <td>1</td>\n",
       "      <td>1</td>\n",
       "      <td>14</td>\n",
       "    </tr>\n",
       "    <tr>\n",
       "      <th>3</th>\n",
       "      <td>2013-01-04</td>\n",
       "      <td>1</td>\n",
       "      <td>1</td>\n",
       "      <td>13</td>\n",
       "    </tr>\n",
       "    <tr>\n",
       "      <th>4</th>\n",
       "      <td>2013-01-05</td>\n",
       "      <td>1</td>\n",
       "      <td>1</td>\n",
       "      <td>10</td>\n",
       "    </tr>\n",
       "    <tr>\n",
       "      <th>5</th>\n",
       "      <td>2013-01-06</td>\n",
       "      <td>1</td>\n",
       "      <td>1</td>\n",
       "      <td>12</td>\n",
       "    </tr>\n",
       "    <tr>\n",
       "      <th>6</th>\n",
       "      <td>2013-01-07</td>\n",
       "      <td>1</td>\n",
       "      <td>1</td>\n",
       "      <td>10</td>\n",
       "    </tr>\n",
       "    <tr>\n",
       "      <th>7</th>\n",
       "      <td>2013-01-08</td>\n",
       "      <td>1</td>\n",
       "      <td>1</td>\n",
       "      <td>9</td>\n",
       "    </tr>\n",
       "    <tr>\n",
       "      <th>8</th>\n",
       "      <td>2013-01-09</td>\n",
       "      <td>1</td>\n",
       "      <td>1</td>\n",
       "      <td>12</td>\n",
       "    </tr>\n",
       "    <tr>\n",
       "      <th>9</th>\n",
       "      <td>2013-01-10</td>\n",
       "      <td>1</td>\n",
       "      <td>1</td>\n",
       "      <td>9</td>\n",
       "    </tr>\n",
       "  </tbody>\n",
       "</table>\n",
       "</div>"
      ],
      "text/plain": [
       "        date  store  item  sales\n",
       "0 2013-01-01      1     1     13\n",
       "1 2013-01-02      1     1     11\n",
       "2 2013-01-03      1     1     14\n",
       "3 2013-01-04      1     1     13\n",
       "4 2013-01-05      1     1     10\n",
       "5 2013-01-06      1     1     12\n",
       "6 2013-01-07      1     1     10\n",
       "7 2013-01-08      1     1      9\n",
       "8 2013-01-09      1     1     12\n",
       "9 2013-01-10      1     1      9"
      ]
     },
     "execution_count": 3,
     "metadata": {},
     "output_type": "execute_result"
    }
   ],
   "source": [
    "#read the data in csv\n",
    "df_sales = pd.read_csv('data/sales-train.csv', parse_dates=['date'])\n",
    "\n",
    "#show first 10 rows\n",
    "df_sales.head(10)"
   ]
  },
  {
   "cell_type": "code",
   "execution_count": 4,
   "metadata": {},
   "outputs": [
    {
     "name": "stdout",
     "output_type": "stream",
     "text": [
      "<class 'pandas.core.frame.DataFrame'>\n",
      "RangeIndex: 913000 entries, 0 to 912999\n",
      "Data columns (total 4 columns):\n",
      "date     913000 non-null datetime64[ns]\n",
      "store    913000 non-null int64\n",
      "item     913000 non-null int64\n",
      "sales    913000 non-null int64\n",
      "dtypes: datetime64[ns](1), int64(3)\n",
      "memory usage: 27.9 MB\n"
     ]
    }
   ],
   "source": [
    "df_sales.info()"
   ]
  },
  {
   "cell_type": "markdown",
   "metadata": {},
   "source": [
    "Our task is to forecast monthly total sales. We need to aggregate our data at the monthly level and sum up the sales column."
   ]
  },
  {
   "cell_type": "code",
   "execution_count": 5,
   "metadata": {},
   "outputs": [
    {
     "data": {
      "text/html": [
       "<div>\n",
       "<style scoped>\n",
       "    .dataframe tbody tr th:only-of-type {\n",
       "        vertical-align: middle;\n",
       "    }\n",
       "\n",
       "    .dataframe tbody tr th {\n",
       "        vertical-align: top;\n",
       "    }\n",
       "\n",
       "    .dataframe thead th {\n",
       "        text-align: right;\n",
       "    }\n",
       "</style>\n",
       "<table border=\"1\" class=\"dataframe\">\n",
       "  <thead>\n",
       "    <tr style=\"text-align: right;\">\n",
       "      <th></th>\n",
       "      <th>date</th>\n",
       "      <th>sales</th>\n",
       "    </tr>\n",
       "  </thead>\n",
       "  <tbody>\n",
       "    <tr>\n",
       "      <th>0</th>\n",
       "      <td>2013-01-01</td>\n",
       "      <td>454904</td>\n",
       "    </tr>\n",
       "    <tr>\n",
       "      <th>1</th>\n",
       "      <td>2013-02-01</td>\n",
       "      <td>459417</td>\n",
       "    </tr>\n",
       "    <tr>\n",
       "      <th>2</th>\n",
       "      <td>2013-03-01</td>\n",
       "      <td>617382</td>\n",
       "    </tr>\n",
       "    <tr>\n",
       "      <th>3</th>\n",
       "      <td>2013-04-01</td>\n",
       "      <td>682274</td>\n",
       "    </tr>\n",
       "    <tr>\n",
       "      <th>4</th>\n",
       "      <td>2013-05-01</td>\n",
       "      <td>763242</td>\n",
       "    </tr>\n",
       "  </tbody>\n",
       "</table>\n",
       "</div>"
      ],
      "text/plain": [
       "        date   sales\n",
       "0 2013-01-01  454904\n",
       "1 2013-02-01  459417\n",
       "2 2013-03-01  617382\n",
       "3 2013-04-01  682274\n",
       "4 2013-05-01  763242"
      ]
     },
     "execution_count": 5,
     "metadata": {},
     "output_type": "execute_result"
    }
   ],
   "source": [
    "#groupby on first of month (MS) and sum the sales\n",
    "df_M_sales = df_sales.groupby(pd.Grouper(key='date', freq='MS'))['sales'].sum().reset_index()\n",
    "df_M_sales.head()"
   ]
  },
  {
   "cell_type": "markdown",
   "metadata": {},
   "source": [
    "## Data Transformation\n",
    "To model our forecast easier and more accurate, we will do the transformations below:\n",
    "* convert the data to stationary if it is not\n",
    "* convert from time series to supervised for having the feature set of our LSTM model\n",
    "* scale the data\n",
    "\n",
    "First off, how do we check if the data is stationary? Let’s plot it and see:"
   ]
  },
  {
   "cell_type": "code",
   "execution_count": 6,
   "metadata": {},
   "outputs": [
    {
     "data": {
      "text/plain": [
       "[Text(0.5, 1, 'Monthly Sales')]"
      ]
     },
     "execution_count": 6,
     "metadata": {},
     "output_type": "execute_result"
    },
    {
     "data": {
      "image/png": "[encoded data removed]",
      "text/plain": [
       "<Figure size 720x360 with 1 Axes>"
      ]
     },
     "metadata": {
      "needs_background": "light"
     },
     "output_type": "display_data"
    }
   ],
   "source": [
    "# plot monthly sales\n",
    "g = sns.relplot(x='date', y='sales', kind='line', aspect=2, data=df_M_sales)\n",
    "\n",
    "# format x-axis in Millions\n",
    "g.ax.yaxis.set_major_formatter(ticker.FuncFormatter(lambda x, pos: '{:,.1f}'.format(x/1000000) + 'M'))\n",
    "g.ax.set(title='Monthly Sales')"
   ]
  },
  {
   "cell_type": "markdown",
   "metadata": {},
   "source": [
    "Obviously, it is not stationary and has an increasing trend over the months. One method is to get the difference in sales compared to the previous month and build the model on it:"
   ]
  },
  {
   "cell_type": "code",
   "execution_count": 7,
   "metadata": {},
   "outputs": [],
   "source": [
    "# create a new dataframe to model the difference\n",
    "df_diff = df_M_sales.copy()\n",
    "\n",
    "# add previous sales to the next row\n",
    "df_diff['prev_sales'] = df_diff['sales'].shift(1)\n",
    "\n",
    "# drop the null values and calculate the difference\n",
    "df_diff = df_diff.dropna()\n",
    "df_diff['diff'] = (df_diff['sales'] - df_diff['prev_sales'])"
   ]
  },
  {
   "cell_type": "markdown",
   "metadata": {},
   "source": [
    "Now we have the required dataframe for modeling the difference. Let’s plot it and check if it is stationary now:"
   ]
  },
  {
   "cell_type": "code",
   "execution_count": 8,
   "metadata": {},
   "outputs": [
    {
     "data": {
      "text/html": [
       "<div>\n",
       "<style scoped>\n",
       "    .dataframe tbody tr th:only-of-type {\n",
       "        vertical-align: middle;\n",
       "    }\n",
       "\n",
       "    .dataframe tbody tr th {\n",
       "        vertical-align: top;\n",
       "    }\n",
       "\n",
       "    .dataframe thead th {\n",
       "        text-align: right;\n",
       "    }\n",
       "</style>\n",
       "<table border=\"1\" class=\"dataframe\">\n",
       "  <thead>\n",
       "    <tr style=\"text-align: right;\">\n",
       "      <th></th>\n",
       "      <th>date</th>\n",
       "      <th>sales</th>\n",
       "      <th>prev_sales</th>\n",
       "      <th>diff</th>\n",
       "    </tr>\n",
       "  </thead>\n",
       "  <tbody>\n",
       "    <tr>\n",
       "      <th>1</th>\n",
       "      <td>2013-02-01</td>\n",
       "      <td>459417</td>\n",
       "      <td>454904.0</td>\n",
       "      <td>4513.0</td>\n",
       "    </tr>\n",
       "    <tr>\n",
       "      <th>2</th>\n",
       "      <td>2013-03-01</td>\n",
       "      <td>617382</td>\n",
       "      <td>459417.0</td>\n",
       "      <td>157965.0</td>\n",
       "    </tr>\n",
       "    <tr>\n",
       "      <th>3</th>\n",
       "      <td>2013-04-01</td>\n",
       "      <td>682274</td>\n",
       "      <td>617382.0</td>\n",
       "      <td>64892.0</td>\n",
       "    </tr>\n",
       "    <tr>\n",
       "      <th>4</th>\n",
       "      <td>2013-05-01</td>\n",
       "      <td>763242</td>\n",
       "      <td>682274.0</td>\n",
       "      <td>80968.0</td>\n",
       "    </tr>\n",
       "    <tr>\n",
       "      <th>5</th>\n",
       "      <td>2013-06-01</td>\n",
       "      <td>795597</td>\n",
       "      <td>763242.0</td>\n",
       "      <td>32355.0</td>\n",
       "    </tr>\n",
       "  </tbody>\n",
       "</table>\n",
       "</div>"
      ],
      "text/plain": [
       "        date   sales  prev_sales      diff\n",
       "1 2013-02-01  459417    454904.0    4513.0\n",
       "2 2013-03-01  617382    459417.0  157965.0\n",
       "3 2013-04-01  682274    617382.0   64892.0\n",
       "4 2013-05-01  763242    682274.0   80968.0\n",
       "5 2013-06-01  795597    763242.0   32355.0"
      ]
     },
     "execution_count": 8,
     "metadata": {},
     "output_type": "execute_result"
    }
   ],
   "source": [
    "df_diff.head()"
   ]
  },
  {
   "cell_type": "code",
   "execution_count": 9,
   "metadata": {},
   "outputs": [
    {
     "data": {
      "text/plain": [
       "<matplotlib.lines.Line2D at 0x25aba9f9c18>"
      ]
     },
     "execution_count": 9,
     "metadata": {},
     "output_type": "execute_result"
    },
    {
     "data": {
      "image/png": "[encoded data removed]",
      "text/plain": [
       "<Figure size 720x360 with 1 Axes>"
      ]
     },
     "metadata": {
      "needs_background": "light"
     },
     "output_type": "display_data"
    }
   ],
   "source": [
    "#plot sales diff\n",
    "g = sns.relplot(x='date', y='diff', kind='line', aspect=2, data=df_diff)\n",
    "g.ax.set(title='Monthly Sales Diff')\n",
    "g.ax.yaxis.set_major_formatter(ticker.FuncFormatter(lambda x, pos: '{:,.0f}'.format(x/1000) + 'K'))\n",
    "g.ax.axhline(0, ls='--', color='black')"
   ]
  },
  {
   "cell_type": "markdown",
   "metadata": {},
   "source": [
    "Perfect! Now we can start building our feature set. We need to use previous monthly sales data to forecast the next ones. The look-back period may vary for every model. Ours will be 12 for this example.\n",
    "\n",
    "So what we need to do is to create columns from **lag_1 to lag_12** and assign values by using shift() method:"
   ]
  },
  {
   "cell_type": "code",
   "execution_count": 10,
   "metadata": {},
   "outputs": [],
   "source": [
    "#create dataframe for transformation from time series to supervised\n",
    "df_supervised = df_diff.drop(['prev_sales'], axis=1)\n",
    "\n",
    "#adding lags\n",
    "for i in np.arange(1,13):\n",
    "    field_name = 'lag_' + str(i)\n",
    "    df_supervised[field_name] = df_supervised['diff'].shift(i)\n",
    "\n",
    "#drop null values\n",
    "df_supervised = df_supervised.dropna().reset_index(drop=True)"
   ]
  },
  {
   "cell_type": "markdown",
   "metadata": {},
   "source": [
    "Check out our new dataframe called df_supervised:"
   ]
  },
  {
   "cell_type": "code",
   "execution_count": 11,
   "metadata": {},
   "outputs": [
    {
     "data": {
      "text/html": [
       "<div>\n",
       "<style scoped>\n",
       "    .dataframe tbody tr th:only-of-type {\n",
       "        vertical-align: middle;\n",
       "    }\n",
       "\n",
       "    .dataframe tbody tr th {\n",
       "        vertical-align: top;\n",
       "    }\n",
       "\n",
       "    .dataframe thead th {\n",
       "        text-align: right;\n",
       "    }\n",
       "</style>\n",
       "<table border=\"1\" class=\"dataframe\">\n",
       "  <thead>\n",
       "    <tr style=\"text-align: right;\">\n",
       "      <th></th>\n",
       "      <th>date</th>\n",
       "      <th>sales</th>\n",
       "      <th>diff</th>\n",
       "      <th>lag_1</th>\n",
       "      <th>lag_2</th>\n",
       "      <th>lag_3</th>\n",
       "      <th>lag_4</th>\n",
       "      <th>lag_5</th>\n",
       "      <th>lag_6</th>\n",
       "      <th>lag_7</th>\n",
       "      <th>lag_8</th>\n",
       "      <th>lag_9</th>\n",
       "      <th>lag_10</th>\n",
       "      <th>lag_11</th>\n",
       "      <th>lag_12</th>\n",
       "    </tr>\n",
       "  </thead>\n",
       "  <tbody>\n",
       "    <tr>\n",
       "      <th>0</th>\n",
       "      <td>2014-02-01</td>\n",
       "      <td>529117</td>\n",
       "      <td>3130.0</td>\n",
       "      <td>19380.0</td>\n",
       "      <td>-186036.0</td>\n",
       "      <td>36056.0</td>\n",
       "      <td>-33320.0</td>\n",
       "      <td>-76854.0</td>\n",
       "      <td>-89161.0</td>\n",
       "      <td>60325.0</td>\n",
       "      <td>32355.0</td>\n",
       "      <td>80968.0</td>\n",
       "      <td>64892.0</td>\n",
       "      <td>157965.0</td>\n",
       "      <td>4513.0</td>\n",
       "    </tr>\n",
       "    <tr>\n",
       "      <th>1</th>\n",
       "      <td>2014-03-01</td>\n",
       "      <td>704301</td>\n",
       "      <td>175184.0</td>\n",
       "      <td>3130.0</td>\n",
       "      <td>19380.0</td>\n",
       "      <td>-186036.0</td>\n",
       "      <td>36056.0</td>\n",
       "      <td>-33320.0</td>\n",
       "      <td>-76854.0</td>\n",
       "      <td>-89161.0</td>\n",
       "      <td>60325.0</td>\n",
       "      <td>32355.0</td>\n",
       "      <td>80968.0</td>\n",
       "      <td>64892.0</td>\n",
       "      <td>157965.0</td>\n",
       "    </tr>\n",
       "    <tr>\n",
       "      <th>2</th>\n",
       "      <td>2014-04-01</td>\n",
       "      <td>788914</td>\n",
       "      <td>84613.0</td>\n",
       "      <td>175184.0</td>\n",
       "      <td>3130.0</td>\n",
       "      <td>19380.0</td>\n",
       "      <td>-186036.0</td>\n",
       "      <td>36056.0</td>\n",
       "      <td>-33320.0</td>\n",
       "      <td>-76854.0</td>\n",
       "      <td>-89161.0</td>\n",
       "      <td>60325.0</td>\n",
       "      <td>32355.0</td>\n",
       "      <td>80968.0</td>\n",
       "      <td>64892.0</td>\n",
       "    </tr>\n",
       "    <tr>\n",
       "      <th>3</th>\n",
       "      <td>2014-05-01</td>\n",
       "      <td>882877</td>\n",
       "      <td>93963.0</td>\n",
       "      <td>84613.0</td>\n",
       "      <td>175184.0</td>\n",
       "      <td>3130.0</td>\n",
       "      <td>19380.0</td>\n",
       "      <td>-186036.0</td>\n",
       "      <td>36056.0</td>\n",
       "      <td>-33320.0</td>\n",
       "      <td>-76854.0</td>\n",
       "      <td>-89161.0</td>\n",
       "      <td>60325.0</td>\n",
       "      <td>32355.0</td>\n",
       "      <td>80968.0</td>\n",
       "    </tr>\n",
       "    <tr>\n",
       "      <th>4</th>\n",
       "      <td>2014-06-01</td>\n",
       "      <td>906842</td>\n",
       "      <td>23965.0</td>\n",
       "      <td>93963.0</td>\n",
       "      <td>84613.0</td>\n",
       "      <td>175184.0</td>\n",
       "      <td>3130.0</td>\n",
       "      <td>19380.0</td>\n",
       "      <td>-186036.0</td>\n",
       "      <td>36056.0</td>\n",
       "      <td>-33320.0</td>\n",
       "      <td>-76854.0</td>\n",
       "      <td>-89161.0</td>\n",
       "      <td>60325.0</td>\n",
       "      <td>32355.0</td>\n",
       "    </tr>\n",
       "    <tr>\n",
       "      <th>5</th>\n",
       "      <td>2014-07-01</td>\n",
       "      <td>989010</td>\n",
       "      <td>82168.0</td>\n",
       "      <td>23965.0</td>\n",
       "      <td>93963.0</td>\n",
       "      <td>84613.0</td>\n",
       "      <td>175184.0</td>\n",
       "      <td>3130.0</td>\n",
       "      <td>19380.0</td>\n",
       "      <td>-186036.0</td>\n",
       "      <td>36056.0</td>\n",
       "      <td>-33320.0</td>\n",
       "      <td>-76854.0</td>\n",
       "      <td>-89161.0</td>\n",
       "      <td>60325.0</td>\n",
       "    </tr>\n",
       "    <tr>\n",
       "      <th>6</th>\n",
       "      <td>2014-08-01</td>\n",
       "      <td>885596</td>\n",
       "      <td>-103414.0</td>\n",
       "      <td>82168.0</td>\n",
       "      <td>23965.0</td>\n",
       "      <td>93963.0</td>\n",
       "      <td>84613.0</td>\n",
       "      <td>175184.0</td>\n",
       "      <td>3130.0</td>\n",
       "      <td>19380.0</td>\n",
       "      <td>-186036.0</td>\n",
       "      <td>36056.0</td>\n",
       "      <td>-33320.0</td>\n",
       "      <td>-76854.0</td>\n",
       "      <td>-89161.0</td>\n",
       "    </tr>\n",
       "    <tr>\n",
       "      <th>7</th>\n",
       "      <td>2014-09-01</td>\n",
       "      <td>785124</td>\n",
       "      <td>-100472.0</td>\n",
       "      <td>-103414.0</td>\n",
       "      <td>82168.0</td>\n",
       "      <td>23965.0</td>\n",
       "      <td>93963.0</td>\n",
       "      <td>84613.0</td>\n",
       "      <td>175184.0</td>\n",
       "      <td>3130.0</td>\n",
       "      <td>19380.0</td>\n",
       "      <td>-186036.0</td>\n",
       "      <td>36056.0</td>\n",
       "      <td>-33320.0</td>\n",
       "      <td>-76854.0</td>\n",
       "    </tr>\n",
       "    <tr>\n",
       "      <th>8</th>\n",
       "      <td>2014-10-01</td>\n",
       "      <td>758883</td>\n",
       "      <td>-26241.0</td>\n",
       "      <td>-100472.0</td>\n",
       "      <td>-103414.0</td>\n",
       "      <td>82168.0</td>\n",
       "      <td>23965.0</td>\n",
       "      <td>93963.0</td>\n",
       "      <td>84613.0</td>\n",
       "      <td>175184.0</td>\n",
       "      <td>3130.0</td>\n",
       "      <td>19380.0</td>\n",
       "      <td>-186036.0</td>\n",
       "      <td>36056.0</td>\n",
       "      <td>-33320.0</td>\n",
       "    </tr>\n",
       "    <tr>\n",
       "      <th>9</th>\n",
       "      <td>2014-11-01</td>\n",
       "      <td>800783</td>\n",
       "      <td>41900.0</td>\n",
       "      <td>-26241.0</td>\n",
       "      <td>-100472.0</td>\n",
       "      <td>-103414.0</td>\n",
       "      <td>82168.0</td>\n",
       "      <td>23965.0</td>\n",
       "      <td>93963.0</td>\n",
       "      <td>84613.0</td>\n",
       "      <td>175184.0</td>\n",
       "      <td>3130.0</td>\n",
       "      <td>19380.0</td>\n",
       "      <td>-186036.0</td>\n",
       "      <td>36056.0</td>\n",
       "    </tr>\n",
       "  </tbody>\n",
       "</table>\n",
       "</div>"
      ],
      "text/plain": [
       "        date   sales      diff     lag_1     lag_2     lag_3     lag_4  \\\n",
       "0 2014-02-01  529117    3130.0   19380.0 -186036.0   36056.0  -33320.0   \n",
       "1 2014-03-01  704301  175184.0    3130.0   19380.0 -186036.0   36056.0   \n",
       "2 2014-04-01  788914   84613.0  175184.0    3130.0   19380.0 -186036.0   \n",
       "3 2014-05-01  882877   93963.0   84613.0  175184.0    3130.0   19380.0   \n",
       "4 2014-06-01  906842   23965.0   93963.0   84613.0  175184.0    3130.0   \n",
       "5 2014-07-01  989010   82168.0   23965.0   93963.0   84613.0  175184.0   \n",
       "6 2014-08-01  885596 -103414.0   82168.0   23965.0   93963.0   84613.0   \n",
       "7 2014-09-01  785124 -100472.0 -103414.0   82168.0   23965.0   93963.0   \n",
       "8 2014-10-01  758883  -26241.0 -100472.0 -103414.0   82168.0   23965.0   \n",
       "9 2014-11-01  800783   41900.0  -26241.0 -100472.0 -103414.0   82168.0   \n",
       "\n",
       "      lag_5     lag_6     lag_7     lag_8     lag_9    lag_10    lag_11  \\\n",
       "0  -76854.0  -89161.0   60325.0   32355.0   80968.0   64892.0  157965.0   \n",
       "1  -33320.0  -76854.0  -89161.0   60325.0   32355.0   80968.0   64892.0   \n",
       "2   36056.0  -33320.0  -76854.0  -89161.0   60325.0   32355.0   80968.0   \n",
       "3 -186036.0   36056.0  -33320.0  -76854.0  -89161.0   60325.0   32355.0   \n",
       "4   19380.0 -186036.0   36056.0  -33320.0  -76854.0  -89161.0   60325.0   \n",
       "5    3130.0   19380.0 -186036.0   36056.0  -33320.0  -76854.0  -89161.0   \n",
       "6  175184.0    3130.0   19380.0 -186036.0   36056.0  -33320.0  -76854.0   \n",
       "7   84613.0  175184.0    3130.0   19380.0 -186036.0   36056.0  -33320.0   \n",
       "8   93963.0   84613.0  175184.0    3130.0   19380.0 -186036.0   36056.0   \n",
       "9   23965.0   93963.0   84613.0  175184.0    3130.0   19380.0 -186036.0   \n",
       "\n",
       "     lag_12  \n",
       "0    4513.0  \n",
       "1  157965.0  \n",
       "2   64892.0  \n",
       "3   80968.0  \n",
       "4   32355.0  \n",
       "5   60325.0  \n",
       "6  -89161.0  \n",
       "7  -76854.0  \n",
       "8  -33320.0  \n",
       "9   36056.0  "
      ]
     },
     "execution_count": 11,
     "metadata": {},
     "output_type": "execute_result"
    }
   ],
   "source": [
    "#drop null values\n",
    "df_supervised.head(10)"
   ]
  },
  {
   "cell_type": "code",
   "execution_count": 12,
   "metadata": {},
   "outputs": [
    {
     "data": {
      "text/html": [
       "<div>\n",
       "<style scoped>\n",
       "    .dataframe tbody tr th:only-of-type {\n",
       "        vertical-align: middle;\n",
       "    }\n",
       "\n",
       "    .dataframe tbody tr th {\n",
       "        vertical-align: top;\n",
       "    }\n",
       "\n",
       "    .dataframe thead th {\n",
       "        text-align: right;\n",
       "    }\n",
       "</style>\n",
       "<table border=\"1\" class=\"dataframe\">\n",
       "  <thead>\n",
       "    <tr style=\"text-align: right;\">\n",
       "      <th></th>\n",
       "      <th>date</th>\n",
       "      <th>sales</th>\n",
       "      <th>diff</th>\n",
       "      <th>lag_1</th>\n",
       "      <th>lag_2</th>\n",
       "      <th>lag_3</th>\n",
       "      <th>lag_4</th>\n",
       "      <th>lag_5</th>\n",
       "      <th>lag_6</th>\n",
       "      <th>lag_7</th>\n",
       "      <th>lag_8</th>\n",
       "      <th>lag_9</th>\n",
       "      <th>lag_10</th>\n",
       "      <th>lag_11</th>\n",
       "      <th>lag_12</th>\n",
       "    </tr>\n",
       "  </thead>\n",
       "  <tbody>\n",
       "    <tr>\n",
       "      <th>41</th>\n",
       "      <td>2017-07-01</td>\n",
       "      <td>1171393</td>\n",
       "      <td>106769.0</td>\n",
       "      <td>43938.0</td>\n",
       "      <td>81824.0</td>\n",
       "      <td>116195.0</td>\n",
       "      <td>201298.0</td>\n",
       "      <td>4063.0</td>\n",
       "      <td>-46105.0</td>\n",
       "      <td>-228037.0</td>\n",
       "      <td>27811.0</td>\n",
       "      <td>-33194.0</td>\n",
       "      <td>-84663.0</td>\n",
       "      <td>-157224.0</td>\n",
       "      <td>116054.0</td>\n",
       "    </tr>\n",
       "    <tr>\n",
       "      <th>42</th>\n",
       "      <td>2017-08-01</td>\n",
       "      <td>1026403</td>\n",
       "      <td>-144990.0</td>\n",
       "      <td>106769.0</td>\n",
       "      <td>43938.0</td>\n",
       "      <td>81824.0</td>\n",
       "      <td>116195.0</td>\n",
       "      <td>201298.0</td>\n",
       "      <td>4063.0</td>\n",
       "      <td>-46105.0</td>\n",
       "      <td>-228037.0</td>\n",
       "      <td>27811.0</td>\n",
       "      <td>-33194.0</td>\n",
       "      <td>-84663.0</td>\n",
       "      <td>-157224.0</td>\n",
       "    </tr>\n",
       "    <tr>\n",
       "      <th>43</th>\n",
       "      <td>2017-09-01</td>\n",
       "      <td>935263</td>\n",
       "      <td>-91140.0</td>\n",
       "      <td>-144990.0</td>\n",
       "      <td>106769.0</td>\n",
       "      <td>43938.0</td>\n",
       "      <td>81824.0</td>\n",
       "      <td>116195.0</td>\n",
       "      <td>201298.0</td>\n",
       "      <td>4063.0</td>\n",
       "      <td>-46105.0</td>\n",
       "      <td>-228037.0</td>\n",
       "      <td>27811.0</td>\n",
       "      <td>-33194.0</td>\n",
       "      <td>-84663.0</td>\n",
       "    </tr>\n",
       "    <tr>\n",
       "      <th>44</th>\n",
       "      <td>2017-10-01</td>\n",
       "      <td>891160</td>\n",
       "      <td>-44103.0</td>\n",
       "      <td>-91140.0</td>\n",
       "      <td>-144990.0</td>\n",
       "      <td>106769.0</td>\n",
       "      <td>43938.0</td>\n",
       "      <td>81824.0</td>\n",
       "      <td>116195.0</td>\n",
       "      <td>201298.0</td>\n",
       "      <td>4063.0</td>\n",
       "      <td>-46105.0</td>\n",
       "      <td>-228037.0</td>\n",
       "      <td>27811.0</td>\n",
       "      <td>-33194.0</td>\n",
       "    </tr>\n",
       "    <tr>\n",
       "      <th>45</th>\n",
       "      <td>2017-11-01</td>\n",
       "      <td>928837</td>\n",
       "      <td>37677.0</td>\n",
       "      <td>-44103.0</td>\n",
       "      <td>-91140.0</td>\n",
       "      <td>-144990.0</td>\n",
       "      <td>106769.0</td>\n",
       "      <td>43938.0</td>\n",
       "      <td>81824.0</td>\n",
       "      <td>116195.0</td>\n",
       "      <td>201298.0</td>\n",
       "      <td>4063.0</td>\n",
       "      <td>-46105.0</td>\n",
       "      <td>-228037.0</td>\n",
       "      <td>27811.0</td>\n",
       "    </tr>\n",
       "    <tr>\n",
       "      <th>46</th>\n",
       "      <td>2017-12-01</td>\n",
       "      <td>695170</td>\n",
       "      <td>-233667.0</td>\n",
       "      <td>37677.0</td>\n",
       "      <td>-44103.0</td>\n",
       "      <td>-91140.0</td>\n",
       "      <td>-144990.0</td>\n",
       "      <td>106769.0</td>\n",
       "      <td>43938.0</td>\n",
       "      <td>81824.0</td>\n",
       "      <td>116195.0</td>\n",
       "      <td>201298.0</td>\n",
       "      <td>4063.0</td>\n",
       "      <td>-46105.0</td>\n",
       "      <td>-228037.0</td>\n",
       "    </tr>\n",
       "  </tbody>\n",
       "</table>\n",
       "</div>"
      ],
      "text/plain": [
       "         date    sales      diff     lag_1     lag_2     lag_3     lag_4  \\\n",
       "41 2017-07-01  1171393  106769.0   43938.0   81824.0  116195.0  201298.0   \n",
       "42 2017-08-01  1026403 -144990.0  106769.0   43938.0   81824.0  116195.0   \n",
       "43 2017-09-01   935263  -91140.0 -144990.0  106769.0   43938.0   81824.0   \n",
       "44 2017-10-01   891160  -44103.0  -91140.0 -144990.0  106769.0   43938.0   \n",
       "45 2017-11-01   928837   37677.0  -44103.0  -91140.0 -144990.0  106769.0   \n",
       "46 2017-12-01   695170 -233667.0   37677.0  -44103.0  -91140.0 -144990.0   \n",
       "\n",
       "       lag_5     lag_6     lag_7     lag_8     lag_9    lag_10    lag_11  \\\n",
       "41    4063.0  -46105.0 -228037.0   27811.0  -33194.0  -84663.0 -157224.0   \n",
       "42  201298.0    4063.0  -46105.0 -228037.0   27811.0  -33194.0  -84663.0   \n",
       "43  116195.0  201298.0    4063.0  -46105.0 -228037.0   27811.0  -33194.0   \n",
       "44   81824.0  116195.0  201298.0    4063.0  -46105.0 -228037.0   27811.0   \n",
       "45   43938.0   81824.0  116195.0  201298.0    4063.0  -46105.0 -228037.0   \n",
       "46  106769.0   43938.0   81824.0  116195.0  201298.0    4063.0  -46105.0   \n",
       "\n",
       "      lag_12  \n",
       "41  116054.0  \n",
       "42 -157224.0  \n",
       "43  -84663.0  \n",
       "44  -33194.0  \n",
       "45   27811.0  \n",
       "46 -228037.0  "
      ]
     },
     "execution_count": 12,
     "metadata": {},
     "output_type": "execute_result"
    }
   ],
   "source": [
    "df_supervised.tail(6)"
   ]
  },
  {
   "cell_type": "markdown",
   "metadata": {},
   "source": [
    "We have our feature set now. Let’s be a bit more curious and ask this question:\n",
    "#### How useful are our features for prediction?\n",
    "Adjusted R-squared is the answer. It tells us how good our features explain the variation in our label (lag_1 to lag_12 for diff, in our example).\n",
    "\n",
    "To do it, we will fit a linear regression model (OLS — Ordinary Least Squares) and calculate the Adjusted R-squared. For the example above, we just used lag_1 to see how much it explains the variation in column diff."
   ]
  },
  {
   "cell_type": "code",
   "execution_count": 13,
   "metadata": {},
   "outputs": [
    {
     "name": "stdout",
     "output_type": "stream",
     "text": [
      "0.03\n"
     ]
    }
   ],
   "source": [
    "# Import statsmodels.formula.api\n",
    "import statsmodels.formula.api as smf\n",
    "\n",
    "# Define the regression formula\n",
    "model = smf.ols(formula='diff ~ lag_1', data=df_supervised)\n",
    "\n",
    "# fit the regression\n",
    "model_fit = model.fit()\n",
    "\n",
    "# extract the adjusted r-squared\n",
    "print(\"{:.2f}\".format(model_fit.rsquared_adj))"
   ]
  },
  {
   "cell_type": "markdown",
   "metadata": {},
   "source": [
    "lag_1 explains 3% of the variation. Let’s check out others:"
   ]
  },
  {
   "cell_type": "code",
   "execution_count": 14,
   "metadata": {},
   "outputs": [
    {
     "name": "stdout",
     "output_type": "stream",
     "text": [
      "0.44\n"
     ]
    }
   ],
   "source": [
    "# Define the regression formula\n",
    "model = smf.ols(formula='diff ~ lag_1 + lag_2 + lag_3 + lag_4 + lag_5', data=df_supervised)\n",
    "\n",
    "# Fit the regression\n",
    "model_fit = model.fit()\n",
    "\n",
    "# Extract the adjusted r-squared\n",
    "regression_adj_rsq = model_fit.rsquared_adj\n",
    "print(\"{:.2f}\".format(model_fit.rsquared_adj))"
   ]
  },
  {
   "cell_type": "markdown",
   "metadata": {},
   "source": [
    "Adding four more features increased the score from 3% to 44%.\n",
    "\n",
    "How is the score if we use the entire feature set:"
   ]
  },
  {
   "cell_type": "code",
   "execution_count": 15,
   "metadata": {},
   "outputs": [
    {
     "name": "stdout",
     "output_type": "stream",
     "text": [
      "0.98\n"
     ]
    }
   ],
   "source": [
    "# Define the regression formula\n",
    "model = smf.ols(formula='diff ~ lag_1 + lag_2 + lag_3 + lag_4 + lag_5 + lag_6 + lag_7 + lag_8 + lag_9 + lag_10 + lag_11 + lag_12', data=df_supervised)\n",
    "\n",
    "# Fit the regression\n",
    "model_fit = model.fit()\n",
    "\n",
    "# Extract the adjusted r-squared\n",
    "print(\"{:.2f}\".format(model_fit.rsquared_adj))"
   ]
  },
  {
   "cell_type": "markdown",
   "metadata": {},
   "source": [
    "The result is impressive as the score is 98%. Now we can confidently build our model after scaling our data. But there is one more step before scaling. We should split our data into train and test sets. As the test set, we have selected the last 6 months’ sales."
   ]
  },
  {
   "cell_type": "code",
   "execution_count": 16,
   "metadata": {},
   "outputs": [],
   "source": [
    "df_model = df_supervised.drop(['sales', 'date'], axis=1)"
   ]
  },
  {
   "cell_type": "code",
   "execution_count": 17,
   "metadata": {},
   "outputs": [
    {
     "name": "stdout",
     "output_type": "stream",
     "text": [
      "<class 'pandas.core.frame.DataFrame'>\n",
      "RangeIndex: 47 entries, 0 to 46\n",
      "Data columns (total 13 columns):\n",
      "diff      47 non-null float64\n",
      "lag_1     47 non-null float64\n",
      "lag_2     47 non-null float64\n",
      "lag_3     47 non-null float64\n",
      "lag_4     47 non-null float64\n",
      "lag_5     47 non-null float64\n",
      "lag_6     47 non-null float64\n",
      "lag_7     47 non-null float64\n",
      "lag_8     47 non-null float64\n",
      "lag_9     47 non-null float64\n",
      "lag_10    47 non-null float64\n",
      "lag_11    47 non-null float64\n",
      "lag_12    47 non-null float64\n",
      "dtypes: float64(13)\n",
      "memory usage: 4.9 KB\n"
     ]
    }
   ],
   "source": [
    "df_model.info()"
   ]
  },
  {
   "cell_type": "code",
   "execution_count": 18,
   "metadata": {},
   "outputs": [],
   "source": [
    "# split into train and test sets\n",
    "train_set, test_set = df_model[0:-6].values, df_model[-6:].values"
   ]
  },
  {
   "cell_type": "markdown",
   "metadata": {},
   "source": [
    "As the scaler, we are going to use MinMaxScaler, which will scale each future between -1 and 1:"
   ]
  },
  {
   "cell_type": "code",
   "execution_count": 19,
   "metadata": {},
   "outputs": [
    {
     "name": "stdout",
     "output_type": "stream",
     "text": [
      "(41, 13)\n",
      "(6, 13)\n"
     ]
    }
   ],
   "source": [
    "print(train_set.shape)\n",
    "print(test_set.shape)"
   ]
  },
  {
   "cell_type": "code",
   "execution_count": 20,
   "metadata": {},
   "outputs": [],
   "source": [
    "from sklearn.preprocessing import MinMaxScaler\n",
    "scaler = MinMaxScaler(feature_range=(-1, 1))\n",
    "scaler = scaler.fit(train_set)\n",
    "#scale train and test sets\n",
    "train_set_scaled = scaler.transform(train_set)\n",
    "test_set_scaled = scaler.transform(test_set)"
   ]
  },
  {
   "cell_type": "code",
   "execution_count": 21,
   "metadata": {},
   "outputs": [
    {
     "data": {
      "text/plain": [
       "array([[ 0.07686073,  0.15255919, -0.80434393,  0.23024212, -0.0447346 ,\n",
       "        -0.25830878, -0.3186859 ,  0.40696724,  0.26794062,  0.50957454,\n",
       "         0.42966779,  0.8922929 ,  0.12955024],\n",
       "       [ 0.8783514 ,  0.07686073,  0.15255919, -0.80434393,  0.29561828,\n",
       "        -0.0447346 , -0.25830878, -0.33606217,  0.40696724,  0.26794062,\n",
       "         0.50957454,  0.42966779,  0.8922929 ]])"
      ]
     },
     "execution_count": 21,
     "metadata": {},
     "output_type": "execute_result"
    }
   ],
   "source": [
    "train_set_scaled[0:2]"
   ]
  },
  {
   "cell_type": "markdown",
   "metadata": {},
   "source": [
    "## Building the LSTM model\n",
    "Everything is ready to build our first deep learning model. Let’s create feature and label sets from scaled datasets:"
   ]
  },
  {
   "cell_type": "code",
   "execution_count": 22,
   "metadata": {},
   "outputs": [],
   "source": [
    "X_train, y_train = train_set_scaled[:, 1:], train_set_scaled[:, 0:1]\n",
    "X_train = X_train.reshape(X_train.shape[0], 1, X_train.shape[1])\n",
    "\n",
    "X_test, y_test = test_set_scaled[:, 1:], test_set_scaled[:, 0:1]\n",
    "X_test = X_test.reshape(X_test.shape[0], 1, X_test.shape[1])"
   ]
  },
  {
   "cell_type": "code",
   "execution_count": 23,
   "metadata": {},
   "outputs": [
    {
     "data": {
      "text/plain": [
       "(41, 1, 12)"
      ]
     },
     "execution_count": 23,
     "metadata": {},
     "output_type": "execute_result"
    }
   ],
   "source": [
    "X_train.shape"
   ]
  },
  {
   "cell_type": "code",
   "execution_count": 24,
   "metadata": {},
   "outputs": [
    {
     "data": {
      "text/plain": [
       "array([[[ 0.15255919, -0.80434393,  0.23024212, -0.0447346 ,\n",
       "         -0.25830878, -0.3186859 ,  0.40696724,  0.26794062,\n",
       "          0.50957454,  0.42966779,  0.8922929 ,  0.12955024]],\n",
       "\n",
       "       [[ 0.07686073,  0.15255919, -0.80434393,  0.29561828,\n",
       "         -0.0447346 , -0.25830878, -0.33606217,  0.40696724,\n",
       "          0.26794062,  0.50957454,  0.42966779,  0.8922929 ]]])"
      ]
     },
     "execution_count": 24,
     "metadata": {},
     "output_type": "execute_result"
    }
   ],
   "source": [
    "X_train[0:2]"
   ]
  },
  {
   "cell_type": "markdown",
   "metadata": {},
   "source": [
    "Let’s fit our LSTM model:"
   ]
  },
  {
   "cell_type": "code",
   "execution_count": 25,
   "metadata": {},
   "outputs": [
    {
     "name": "stdout",
     "output_type": "stream",
     "text": [
      "Epoch 1/100\n",
      "41/41 [==============================] - 0s 11ms/step - loss: 0.2849\n",
      "Epoch 2/100\n",
      "41/41 [==============================] - 0s 1ms/step - loss: 0.2480\n",
      "Epoch 3/100\n",
      "41/41 [==============================] - 0s 1ms/step - loss: 0.2209\n",
      "Epoch 4/100\n",
      "41/41 [==============================] - 0s 1ms/step - loss: 0.2016\n",
      "Epoch 5/100\n",
      "41/41 [==============================] - 0s 1ms/step - loss: 0.1865\n",
      "Epoch 6/100\n",
      "41/41 [==============================] - 0s 1ms/step - loss: 0.1741\n",
      "Epoch 7/100\n",
      "41/41 [==============================] - 0s 1ms/step - loss: 0.1633\n",
      "Epoch 8/100\n",
      "41/41 [==============================] - 0s 1ms/step - loss: 0.1537\n",
      "Epoch 9/100\n",
      "41/41 [==============================] - 0s 1ms/step - loss: 0.1449\n",
      "Epoch 10/100\n",
      "41/41 [==============================] - 0s 1ms/step - loss: 0.1367\n",
      "Epoch 11/100\n",
      "41/41 [==============================] - 0s 2ms/step - loss: 0.1290\n",
      "Epoch 12/100\n",
      "41/41 [==============================] - 0s 2ms/step - loss: 0.1216\n",
      "Epoch 13/100\n",
      "41/41 [==============================] - 0s 1ms/step - loss: 0.1146\n",
      "Epoch 14/100\n",
      "41/41 [==============================] - 0s 2ms/step - loss: 0.1079\n",
      "Epoch 15/100\n",
      "41/41 [==============================] - 0s 1ms/step - loss: 0.1015\n",
      "Epoch 16/100\n",
      "41/41 [==============================] - 0s 1ms/step - loss: 0.0954\n",
      "Epoch 17/100\n",
      "41/41 [==============================] - 0s 1ms/step - loss: 0.0895\n",
      "Epoch 18/100\n",
      "41/41 [==============================] - 0s 1ms/step - loss: 0.0839\n",
      "Epoch 19/100\n",
      "41/41 [==============================] - 0s 1ms/step - loss: 0.0785\n",
      "Epoch 20/100\n",
      "41/41 [==============================] - 0s 1ms/step - loss: 0.0735\n",
      "Epoch 21/100\n",
      "41/41 [==============================] - 0s 1ms/step - loss: 0.0686\n",
      "Epoch 22/100\n",
      "41/41 [==============================] - 0s 1ms/step - loss: 0.0641\n",
      "Epoch 23/100\n",
      "41/41 [==============================] - 0s 1ms/step - loss: 0.0598\n",
      "Epoch 24/100\n",
      "41/41 [==============================] - 0s 1ms/step - loss: 0.0557\n",
      "Epoch 25/100\n",
      "41/41 [==============================] - 0s 1ms/step - loss: 0.0518\n",
      "Epoch 26/100\n",
      "41/41 [==============================] - 0s 1ms/step - loss: 0.0482\n",
      "Epoch 27/100\n",
      "41/41 [==============================] - 0s 1ms/step - loss: 0.0447\n",
      "Epoch 28/100\n",
      "41/41 [==============================] - 0s 1ms/step - loss: 0.0415\n",
      "Epoch 29/100\n",
      "41/41 [==============================] - 0s 1ms/step - loss: 0.0385\n",
      "Epoch 30/100\n",
      "41/41 [==============================] - 0s 1ms/step - loss: 0.0356\n",
      "Epoch 31/100\n",
      "41/41 [==============================] - 0s 1ms/step - loss: 0.0329\n",
      "Epoch 32/100\n",
      "41/41 [==============================] - 0s 1ms/step - loss: 0.0304\n",
      "Epoch 33/100\n",
      "41/41 [==============================] - 0s 1ms/step - loss: 0.0281\n",
      "Epoch 34/100\n",
      "41/41 [==============================] - 0s 1ms/step - loss: 0.0259\n",
      "Epoch 35/100\n",
      "41/41 [==============================] - 0s 1ms/step - loss: 0.0239\n",
      "Epoch 36/100\n",
      "41/41 [==============================] - 0s 1ms/step - loss: 0.0221\n",
      "Epoch 37/100\n",
      "41/41 [==============================] - 0s 1ms/step - loss: 0.0204\n",
      "Epoch 38/100\n",
      "41/41 [==============================] - 0s 1ms/step - loss: 0.0188\n",
      "Epoch 39/100\n",
      "41/41 [==============================] - 0s 2ms/step - loss: 0.0174\n",
      "Epoch 40/100\n",
      "41/41 [==============================] - 0s 2ms/step - loss: 0.0161\n",
      "Epoch 41/100\n",
      "41/41 [==============================] - 0s 2ms/step - loss: 0.0149\n",
      "Epoch 42/100\n",
      "41/41 [==============================] - 0s 2ms/step - loss: 0.0138\n",
      "Epoch 43/100\n",
      "41/41 [==============================] - 0s 1ms/step - loss: 0.0128\n",
      "Epoch 44/100\n",
      "41/41 [==============================] - 0s 1ms/step - loss: 0.0120\n",
      "Epoch 45/100\n",
      "41/41 [==============================] - 0s 1ms/step - loss: 0.0112\n",
      "Epoch 46/100\n",
      "41/41 [==============================] - 0s 2ms/step - loss: 0.0105\n",
      "Epoch 47/100\n",
      "41/41 [==============================] - 0s 1ms/step - loss: 0.0098\n",
      "Epoch 48/100\n",
      "41/41 [==============================] - 0s 1ms/step - loss: 0.0092\n",
      "Epoch 49/100\n",
      "41/41 [==============================] - 0s 1ms/step - loss: 0.0087\n",
      "Epoch 50/100\n",
      "41/41 [==============================] - 0s 1ms/step - loss: 0.0083\n",
      "Epoch 51/100\n",
      "41/41 [==============================] - 0s 1ms/step - loss: 0.0079\n",
      "Epoch 52/100\n",
      "41/41 [==============================] - 0s 1ms/step - loss: 0.0075\n",
      "Epoch 53/100\n",
      "41/41 [==============================] - 0s 1ms/step - loss: 0.0072\n",
      "Epoch 54/100\n",
      "41/41 [==============================] - 0s 2ms/step - loss: 0.0069\n",
      "Epoch 55/100\n",
      "41/41 [==============================] - 0s 2ms/step - loss: 0.0066\n",
      "Epoch 56/100\n",
      "41/41 [==============================] - 0s 2ms/step - loss: 0.0064\n",
      "Epoch 57/100\n",
      "41/41 [==============================] - 0s 1ms/step - loss: 0.0061\n",
      "Epoch 58/100\n",
      "41/41 [==============================] - 0s 2ms/step - loss: 0.0060\n",
      "Epoch 59/100\n",
      "41/41 [==============================] - 0s 2ms/step - loss: 0.0058\n",
      "Epoch 60/100\n",
      "41/41 [==============================] - 0s 2ms/step - loss: 0.0056\n",
      "Epoch 61/100\n",
      "41/41 [==============================] - 0s 2ms/step - loss: 0.0055\n",
      "Epoch 62/100\n",
      "41/41 [==============================] - 0s 2ms/step - loss: 0.0054\n",
      "Epoch 63/100\n",
      "41/41 [==============================] - 0s 1ms/step - loss: 0.0052\n",
      "Epoch 64/100\n",
      "41/41 [==============================] - 0s 1ms/step - loss: 0.0052\n",
      "Epoch 65/100\n",
      "41/41 [==============================] - 0s 2ms/step - loss: 0.0051\n",
      "Epoch 66/100\n",
      "41/41 [==============================] - 0s 2ms/step - loss: 0.0050\n",
      "Epoch 67/100\n",
      "41/41 [==============================] - 0s 2ms/step - loss: 0.0049\n",
      "Epoch 68/100\n",
      "41/41 [==============================] - 0s 2ms/step - loss: 0.0048\n",
      "Epoch 69/100\n",
      "41/41 [==============================] - 0s 2ms/step - loss: 0.0048\n",
      "Epoch 70/100\n",
      "41/41 [==============================] - 0s 2ms/step - loss: 0.0047\n",
      "Epoch 71/100\n",
      "41/41 [==============================] - 0s 2ms/step - loss: 0.0047\n",
      "Epoch 72/100\n",
      "41/41 [==============================] - 0s 1ms/step - loss: 0.0046\n",
      "Epoch 73/100\n",
      "41/41 [==============================] - 0s 2ms/step - loss: 0.0046\n",
      "Epoch 74/100\n",
      "41/41 [==============================] - 0s 2ms/step - loss: 0.0045\n",
      "Epoch 75/100\n",
      "41/41 [==============================] - 0s 2ms/step - loss: 0.0045\n",
      "Epoch 76/100\n",
      "41/41 [==============================] - 0s 1ms/step - loss: 0.0045\n",
      "Epoch 77/100\n",
      "41/41 [==============================] - 0s 1ms/step - loss: 0.0044\n",
      "Epoch 78/100\n",
      "41/41 [==============================] - 0s 1ms/step - loss: 0.0044\n",
      "Epoch 79/100\n",
      "41/41 [==============================] - 0s 2ms/step - loss: 0.0043\n",
      "Epoch 80/100\n",
      "41/41 [==============================] - 0s 2ms/step - loss: 0.0043\n",
      "Epoch 81/100\n",
      "41/41 [==============================] - 0s 2ms/step - loss: 0.0043\n",
      "Epoch 82/100\n",
      "41/41 [==============================] - 0s 2ms/step - loss: 0.0042\n",
      "Epoch 83/100\n",
      "41/41 [==============================] - 0s 2ms/step - loss: 0.0042\n",
      "Epoch 84/100\n",
      "41/41 [==============================] - 0s 2ms/step - loss: 0.0042\n",
      "Epoch 85/100\n",
      "41/41 [==============================] - 0s 2ms/step - loss: 0.0042\n",
      "Epoch 86/100\n",
      "41/41 [==============================] - 0s 2ms/step - loss: 0.0041\n",
      "Epoch 87/100\n",
      "41/41 [==============================] - 0s 2ms/step - loss: 0.0041\n",
      "Epoch 88/100\n",
      "41/41 [==============================] - 0s 1ms/step - loss: 0.0041\n",
      "Epoch 89/100\n",
      "41/41 [==============================] - 0s 2ms/step - loss: 0.0041\n",
      "Epoch 90/100\n",
      "41/41 [==============================] - 0s 2ms/step - loss: 0.0040\n",
      "Epoch 91/100\n",
      "41/41 [==============================] - 0s 2ms/step - loss: 0.0040\n",
      "Epoch 92/100\n",
      "41/41 [==============================] - 0s 2ms/step - loss: 0.0040\n",
      "Epoch 93/100\n",
      "41/41 [==============================] - 0s 2ms/step - loss: 0.0040\n",
      "Epoch 94/100\n",
      "41/41 [==============================] - 0s 2ms/step - loss: 0.0040\n",
      "Epoch 95/100\n",
      "41/41 [==============================] - 0s 2ms/step - loss: 0.0040\n",
      "Epoch 96/100\n",
      "41/41 [==============================] - 0s 1ms/step - loss: 0.0039\n",
      "Epoch 97/100\n",
      "41/41 [==============================] - 0s 1ms/step - loss: 0.0039\n",
      "Epoch 98/100\n",
      "41/41 [==============================] - 0s 1ms/step - loss: 0.0039\n",
      "Epoch 99/100\n",
      "41/41 [==============================] - 0s 1ms/step - loss: 0.0039\n",
      "Epoch 100/100\n",
      "41/41 [==============================] - 0s 2ms/step - loss: 0.0039\n"
     ]
    },
    {
     "data": {
      "text/plain": [
       "<keras.callbacks.History at 0x25abaf95978>"
      ]
     },
     "execution_count": 25,
     "metadata": {},
     "output_type": "execute_result"
    }
   ],
   "source": [
    "model = Sequential()\n",
    "model.add(LSTM(4, batch_input_shape=(1, X_train.shape[1], X_train.shape[2]), stateful=True))\n",
    "model.add(Dense(1))\n",
    "model.compile(loss='mean_squared_error', optimizer='adam')\n",
    "model.fit(X_train, y_train, nb_epoch=100, batch_size=1, verbose=1, shuffle=False)"
   ]
  },
  {
   "cell_type": "markdown",
   "metadata": {},
   "source": [
    "The code block above prints how the model improves itself and reduce the error in each epoch. \n",
    "\n",
    "Let’s do the prediction and see how the results look like:"
   ]
  },
  {
   "cell_type": "code",
   "execution_count": 26,
   "metadata": {},
   "outputs": [
    {
     "data": {
      "text/plain": [
       "array([[ 0.6521265 ],\n",
       "       [-0.44885397],\n",
       "       [-0.31278825],\n",
       "       [ 0.0125564 ],\n",
       "       [ 0.31295902],\n",
       "       [-0.9383363 ]], dtype=float32)"
      ]
     },
     "execution_count": 26,
     "metadata": {},
     "output_type": "execute_result"
    }
   ],
   "source": [
    "y_pred = model.predict(X_test,batch_size=1)\n",
    "y_pred"
   ]
  },
  {
   "cell_type": "code",
   "execution_count": 27,
   "metadata": {},
   "outputs": [
    {
     "data": {
      "text/plain": [
       "array([[ 0.55964922],\n",
       "       [-0.61313659],\n",
       "       [-0.36228353],\n",
       "       [-0.14316792],\n",
       "       [ 0.23779333],\n",
       "       [-1.02622661]])"
      ]
     },
     "execution_count": 27,
     "metadata": {},
     "output_type": "execute_result"
    }
   ],
   "source": [
    "y_test"
   ]
  },
  {
   "cell_type": "markdown",
   "metadata": {},
   "source": [
    "Note: for multistep prediction, rreplace X_test values with the predictions coming from t-1"
   ]
  },
  {
   "cell_type": "markdown",
   "metadata": {},
   "source": [
    "Results look similar but it doesn’t tell us much because these are scaled data that shows the difference. How we can see the actual sales prediction?\n",
    "\n",
    "First, we need to do the inverse transformation for scaling:"
   ]
  },
  {
   "cell_type": "code",
   "execution_count": 28,
   "metadata": {},
   "outputs": [],
   "source": [
    "#reshape y_pred to merge it into X_test\n",
    "y_pred = y_pred.reshape(y_pred.shape[0], 1, y_pred.shape[1])"
   ]
  },
  {
   "cell_type": "code",
   "execution_count": 29,
   "metadata": {},
   "outputs": [
    {
     "data": {
      "text/plain": [
       "(6, 1, 1)"
      ]
     },
     "execution_count": 29,
     "metadata": {},
     "output_type": "execute_result"
    }
   ],
   "source": [
    "y_pred.shape"
   ]
  },
  {
   "cell_type": "code",
   "execution_count": 30,
   "metadata": {},
   "outputs": [
    {
     "name": "stdout",
     "output_type": "stream",
     "text": [
      "[[ 0.65212649  0.26695937  0.44344626  0.60355899  1.10628178  0.13866328\n",
      "  -0.10745675 -1.02635392  0.24535439 -0.05787474 -0.31370458 -0.67437352\n",
      "   0.68397168]]\n",
      "[[-0.44885397  0.55964922  0.26695937  0.44344626  0.68877355  1.10628178\n",
      "   0.13866328 -0.12204966 -1.02635392  0.24535439 -0.05787474 -0.31370458\n",
      "  -0.67437352]]\n",
      "[[-0.31278825 -0.61313659  0.55964922  0.26695937  0.52015228  0.68877355\n",
      "   1.10628178  0.12731349 -0.12204966 -1.02635392  0.24535439 -0.05787474\n",
      "  -0.31370458]]\n",
      "[[ 0.0125564  -0.36228353 -0.61313659  0.55964922  0.33428672  0.52015228\n",
      "   0.68877355  1.10768225  0.12731349 -0.12204966 -1.02635392  0.24535439\n",
      "  -0.05787474]]\n",
      "[[ 0.31295902 -0.14316792 -0.36228353 -0.61313659  0.64253037  0.33428672\n",
      "   0.52015228  0.68467253  1.10768225  0.12731349 -0.12204966 -1.02635392\n",
      "   0.24535439]]\n",
      "[[-0.93833631  0.23779333 -0.14316792 -0.36228353 -0.59257833  0.64253037\n",
      "   0.33428672  0.51382935  0.68467253  1.10768225  0.12731349 -0.12204966\n",
      "  -1.02635392]]\n"
     ]
    }
   ],
   "source": [
    "#rebuild test set for inverse transform\n",
    "pred_test_set = []\n",
    "for index in range(0,len(y_pred)):\n",
    "    print(np.concatenate([y_pred[index], X_test[index]],axis=1))\n",
    "    pred_test_set.append(np.concatenate([y_pred[index],X_test[index]],axis=1))"
   ]
  },
  {
   "cell_type": "code",
   "execution_count": 31,
   "metadata": {},
   "outputs": [
    {
     "data": {
      "text/plain": [
       "array([[ 0.65212649,  0.26695937,  0.44344626,  0.60355899,  1.10628178,\n",
       "         0.13866328, -0.10745675, -1.02635392,  0.24535439, -0.05787474,\n",
       "        -0.31370458, -0.67437352,  0.68397168]])"
      ]
     },
     "execution_count": 31,
     "metadata": {},
     "output_type": "execute_result"
    }
   ],
   "source": [
    "pred_test_set[0]"
   ]
  },
  {
   "cell_type": "code",
   "execution_count": 32,
   "metadata": {},
   "outputs": [],
   "source": [
    "#reshape pred_test_set\n",
    "pred_test_set = np.array(pred_test_set)\n",
    "pred_test_set = pred_test_set.reshape(pred_test_set.shape[0], pred_test_set.shape[2])"
   ]
  },
  {
   "cell_type": "code",
   "execution_count": 33,
   "metadata": {},
   "outputs": [
    {
     "data": {
      "text/plain": [
       "(6, 13)"
      ]
     },
     "execution_count": 33,
     "metadata": {},
     "output_type": "execute_result"
    }
   ],
   "source": [
    "pred_test_set.shape"
   ]
  },
  {
   "cell_type": "code",
   "execution_count": 34,
   "metadata": {},
   "outputs": [],
   "source": [
    "#inverse transform\n",
    "pred_test_set_inverted = scaler.inverse_transform(pred_test_set)"
   ]
  },
  {
   "cell_type": "markdown",
   "metadata": {},
   "source": [
    "Second, we need to build the dataframe has the dates and the predictions. Transformed predictions are showing the difference. We should calculate the predicted sales numbers:"
   ]
  },
  {
   "cell_type": "code",
   "execution_count": 35,
   "metadata": {},
   "outputs": [],
   "source": [
    "#create dataframe that shows the predicted sales\n",
    "result_list = []\n",
    "sales_dates = list(df_M_sales[-7:].date)\n",
    "act_sales = list(df_M_sales[-7:].sales)\n",
    "\n",
    "for index in range(0,len(pred_test_set_inverted)):\n",
    "    result_dict = {}\n",
    "    result_dict['date'] = sales_dates[index+1]\n",
    "    result_dict['pred_value'] = (int)(pred_test_set_inverted[index][0] + act_sales[index])    \n",
    "    result_list.append(result_dict)\n",
    "\n",
    "df_result = pd.DataFrame(result_list)"
   ]
  },
  {
   "cell_type": "code",
   "execution_count": 36,
   "metadata": {},
   "outputs": [
    {
     "data": {
      "text/html": [
       "<div>\n",
       "<style scoped>\n",
       "    .dataframe tbody tr th:only-of-type {\n",
       "        vertical-align: middle;\n",
       "    }\n",
       "\n",
       "    .dataframe tbody tr th {\n",
       "        vertical-align: top;\n",
       "    }\n",
       "\n",
       "    .dataframe thead th {\n",
       "        text-align: right;\n",
       "    }\n",
       "</style>\n",
       "<table border=\"1\" class=\"dataframe\">\n",
       "  <thead>\n",
       "    <tr style=\"text-align: right;\">\n",
       "      <th></th>\n",
       "      <th>date</th>\n",
       "      <th>pred_value</th>\n",
       "    </tr>\n",
       "  </thead>\n",
       "  <tbody>\n",
       "    <tr>\n",
       "      <th>0</th>\n",
       "      <td>2017-07-01</td>\n",
       "      <td>1191244</td>\n",
       "    </tr>\n",
       "    <tr>\n",
       "      <th>1</th>\n",
       "      <td>2017-08-01</td>\n",
       "      <td>1061669</td>\n",
       "    </tr>\n",
       "    <tr>\n",
       "      <th>2</th>\n",
       "      <td>2017-09-01</td>\n",
       "      <td>945888</td>\n",
       "    </tr>\n",
       "    <tr>\n",
       "      <th>3</th>\n",
       "      <td>2017-10-01</td>\n",
       "      <td>924588</td>\n",
       "    </tr>\n",
       "    <tr>\n",
       "      <th>4</th>\n",
       "      <td>2017-11-01</td>\n",
       "      <td>944972</td>\n",
       "    </tr>\n",
       "    <tr>\n",
       "      <th>5</th>\n",
       "      <td>2017-12-01</td>\n",
       "      <td>714037</td>\n",
       "    </tr>\n",
       "  </tbody>\n",
       "</table>\n",
       "</div>"
      ],
      "text/plain": [
       "        date  pred_value\n",
       "0 2017-07-01     1191244\n",
       "1 2017-08-01     1061669\n",
       "2 2017-09-01      945888\n",
       "3 2017-10-01      924588\n",
       "4 2017-11-01      944972\n",
       "5 2017-12-01      714037"
      ]
     },
     "execution_count": 36,
     "metadata": {},
     "output_type": "execute_result"
    }
   ],
   "source": [
    "df_result"
   ]
  },
  {
   "cell_type": "markdown",
   "metadata": {},
   "source": [
    "Great! We’ve predicted the next six months’ sales numbers. Let’s check them in the plot to see how good is our model:"
   ]
  },
  {
   "cell_type": "code",
   "execution_count": 37,
   "metadata": {},
   "outputs": [],
   "source": [
    "#merge with actual sales dataframe\n",
    "df_sales_pred = pd.merge(df_M_sales,df_result,on='date',how='left')"
   ]
  },
  {
   "cell_type": "code",
   "execution_count": 38,
   "metadata": {},
   "outputs": [
    {
     "data": {
      "text/html": [
       "<div>\n",
       "<style scoped>\n",
       "    .dataframe tbody tr th:only-of-type {\n",
       "        vertical-align: middle;\n",
       "    }\n",
       "\n",
       "    .dataframe tbody tr th {\n",
       "        vertical-align: top;\n",
       "    }\n",
       "\n",
       "    .dataframe thead th {\n",
       "        text-align: right;\n",
       "    }\n",
       "</style>\n",
       "<table border=\"1\" class=\"dataframe\">\n",
       "  <thead>\n",
       "    <tr style=\"text-align: right;\">\n",
       "      <th></th>\n",
       "      <th>date</th>\n",
       "      <th>sales</th>\n",
       "      <th>pred_value</th>\n",
       "    </tr>\n",
       "  </thead>\n",
       "  <tbody>\n",
       "    <tr>\n",
       "      <th>50</th>\n",
       "      <td>2017-03-01</td>\n",
       "      <td>822667</td>\n",
       "      <td>NaN</td>\n",
       "    </tr>\n",
       "    <tr>\n",
       "      <th>51</th>\n",
       "      <td>2017-04-01</td>\n",
       "      <td>938862</td>\n",
       "      <td>NaN</td>\n",
       "    </tr>\n",
       "    <tr>\n",
       "      <th>52</th>\n",
       "      <td>2017-05-01</td>\n",
       "      <td>1020686</td>\n",
       "      <td>NaN</td>\n",
       "    </tr>\n",
       "    <tr>\n",
       "      <th>53</th>\n",
       "      <td>2017-06-01</td>\n",
       "      <td>1064624</td>\n",
       "      <td>NaN</td>\n",
       "    </tr>\n",
       "    <tr>\n",
       "      <th>54</th>\n",
       "      <td>2017-07-01</td>\n",
       "      <td>1171393</td>\n",
       "      <td>1191244.0</td>\n",
       "    </tr>\n",
       "    <tr>\n",
       "      <th>55</th>\n",
       "      <td>2017-08-01</td>\n",
       "      <td>1026403</td>\n",
       "      <td>1061669.0</td>\n",
       "    </tr>\n",
       "    <tr>\n",
       "      <th>56</th>\n",
       "      <td>2017-09-01</td>\n",
       "      <td>935263</td>\n",
       "      <td>945888.0</td>\n",
       "    </tr>\n",
       "    <tr>\n",
       "      <th>57</th>\n",
       "      <td>2017-10-01</td>\n",
       "      <td>891160</td>\n",
       "      <td>924588.0</td>\n",
       "    </tr>\n",
       "    <tr>\n",
       "      <th>58</th>\n",
       "      <td>2017-11-01</td>\n",
       "      <td>928837</td>\n",
       "      <td>944972.0</td>\n",
       "    </tr>\n",
       "    <tr>\n",
       "      <th>59</th>\n",
       "      <td>2017-12-01</td>\n",
       "      <td>695170</td>\n",
       "      <td>714037.0</td>\n",
       "    </tr>\n",
       "  </tbody>\n",
       "</table>\n",
       "</div>"
      ],
      "text/plain": [
       "         date    sales  pred_value\n",
       "50 2017-03-01   822667         NaN\n",
       "51 2017-04-01   938862         NaN\n",
       "52 2017-05-01  1020686         NaN\n",
       "53 2017-06-01  1064624         NaN\n",
       "54 2017-07-01  1171393   1191244.0\n",
       "55 2017-08-01  1026403   1061669.0\n",
       "56 2017-09-01   935263    945888.0\n",
       "57 2017-10-01   891160    924588.0\n",
       "58 2017-11-01   928837    944972.0\n",
       "59 2017-12-01   695170    714037.0"
      ]
     },
     "execution_count": 38,
     "metadata": {},
     "output_type": "execute_result"
    }
   ],
   "source": [
    "df_sales_pred.tail(10)"
   ]
  },
  {
   "cell_type": "code",
   "execution_count": 39,
   "metadata": {},
   "outputs": [
    {
     "data": {
      "text/plain": [
       "[Text(0.5, 1.0, 'Monthly Sales')]"
      ]
     },
     "execution_count": 39,
     "metadata": {},
     "output_type": "execute_result"
    },
    {
     "data": {
      "image/png": "[encoded data removed]",
      "text/plain": [
       "<Figure size 720x360 with 1 Axes>"
      ]
     },
     "metadata": {
      "needs_background": "light"
     },
     "output_type": "display_data"
    }
   ],
   "source": [
    "fig, ax = plt.subplots(1,1,figsize=(10,5))\n",
    "list_data = [df_sales_pred.loc[:, \"sales\"], df_sales_pred.loc[:, \"pred_value\"]]\n",
    "sns.lineplot(data=list_data, ax=ax)\n",
    "\n",
    "# format x-axis in Millions\n",
    "ax.yaxis.set_major_formatter(ticker.FuncFormatter(lambda x, pos: '{:,.1f}'.format(x/1000000) + 'M'))\n",
    "ax.set(title='Monthly Sales')"
   ]
  },
  {
   "cell_type": "code",
   "execution_count": 41,
   "metadata": {},
   "outputs": [
    {
     "data": {
      "text/plain": [
       "[Text(0.5, 1, 'Monthly Sales')]"
      ]
     },
     "execution_count": 41,
     "metadata": {},
     "output_type": "execute_result"
    },
    {
     "data": {
      "image/png": "[encoded data removed]",
      "text/plain": [
       "<Figure size 720x360 with 1 Axes>"
      ]
     },
     "metadata": {
      "needs_background": "light"
     },
     "output_type": "display_data"
    }
   ],
   "source": [
    "# plot actual monthly sales\n",
    "g = sns.relplot(x='date', y='sales', kind='line', aspect=2, data=df_sales_pred)\n",
    "# plot predicted sales for last 6 months\n",
    "plt.plot(df_sales_pred['date'], df_sales_pred['pred_value'], 'go--')\n",
    "\n",
    "# format x-axis in Millions\n",
    "g.ax.yaxis.set_major_formatter(ticker.FuncFormatter(lambda x, pos: '{:,.1f}'.format(x/1000000) + 'M'))\n",
    "g.ax.set(title='Monthly Sales')"
   ]
  },
  {
   "cell_type": "markdown",
   "metadata": {},
   "source": [
    "Looks pretty good for a simple model.\n",
    "\n",
    "One improvement we can do for this model is to add holidays, breaks, and other seasonal effects. They can be simply added as a new feature.\n",
    "\n",
    "By using this model, we have our baseline sales predictions. But how we can predict the effect of a promotion on sales? We will look into it in Part 7."
   ]
  },
  {
   "cell_type": "code",
   "execution_count": null,
   "metadata": {},
   "outputs": [],
   "source": []
  },
  {
   "cell_type": "code",
   "execution_count": null,
   "metadata": {},
   "outputs": [],
   "source": []
  },
  {
   "cell_type": "code",
   "execution_count": null,
   "metadata": {},
   "outputs": [],
   "source": []
  },
  {
   "cell_type": "code",
   "execution_count": null,
   "metadata": {},
   "outputs": [],
   "source": []
  },
  {
   "cell_type": "code",
   "execution_count": null,
   "metadata": {},
   "outputs": [],
   "source": []
  },
  {
   "cell_type": "markdown",
   "metadata": {},
   "source": [
    "### Plotly graphs"
   ]
  },
  {
   "cell_type": "code",
   "execution_count": 42,
   "metadata": {},
   "outputs": [
    {
     "ename": "ModuleNotFoundError",
     "evalue": "No module named 'plotly'",
     "output_type": "error",
     "traceback": [
      "\u001b[1;31m---------------------------------------------------------------------------\u001b[0m",
      "\u001b[1;31mModuleNotFoundError\u001b[0m                       Traceback (most recent call last)",
      "\u001b[1;32m<ipython-input-42-43e0ae3cf333>\u001b[0m in \u001b[0;36m<module>\u001b[1;34m\u001b[0m\n\u001b[0;32m      1\u001b[0m \u001b[1;31m#import plotly for visualization\u001b[0m\u001b[1;33m\u001b[0m\u001b[1;33m\u001b[0m\u001b[1;33m\u001b[0m\u001b[0m\n\u001b[1;32m----> 2\u001b[1;33m \u001b[1;32mimport\u001b[0m \u001b[0mplotly\u001b[0m\u001b[1;33m.\u001b[0m\u001b[0mgraph_objects\u001b[0m \u001b[1;32mas\u001b[0m \u001b[0mgo\u001b[0m\u001b[1;33m\u001b[0m\u001b[1;33m\u001b[0m\u001b[0m\n\u001b[0m\u001b[0;32m      3\u001b[0m \u001b[1;32mimport\u001b[0m \u001b[0mplotly\u001b[0m\u001b[1;33m.\u001b[0m\u001b[0mfigure_factory\u001b[0m \u001b[1;32mas\u001b[0m \u001b[0mff\u001b[0m\u001b[1;33m\u001b[0m\u001b[1;33m\u001b[0m\u001b[0m\n",
      "\u001b[1;31mModuleNotFoundError\u001b[0m: No module named 'plotly'"
     ]
    }
   ],
   "source": [
    "#import plotly for visualization\n",
    "import plotly.graph_objects as go\n",
    "import plotly.figure_factory as ff"
   ]
  },
  {
   "cell_type": "code",
   "execution_count": null,
   "metadata": {},
   "outputs": [],
   "source": [
    "#plot monthly sales\n",
    "plot_data = [\n",
    "    go.Scatter(\n",
    "        x=df_M_sales['date'],\n",
    "        y=df_M_sales['sales'],\n",
    "    )\n",
    "]\n",
    "\n",
    "plot_layout = go.Layout(\n",
    "        title='Montly Sales'\n",
    "    )\n",
    "fig = go.Figure(data=plot_data, layout=plot_layout)\n",
    "fig.show()"
   ]
  }
 ],
 "metadata": {
  "kernelspec": {
   "display_name": "Python 3",
   "language": "python",
   "name": "python3"
  },
  "language_info": {
   "codemirror_mode": {
    "name": "ipython",
    "version": 3
   },
   "file_extension": ".py",
   "mimetype": "text/x-python",
   "name": "python",
   "nbconvert_exporter": "python",
   "pygments_lexer": "ipython3",
   "version": "3.6.9"
  }
 },
 "nbformat": 4,
 "nbformat_minor": 4
}
