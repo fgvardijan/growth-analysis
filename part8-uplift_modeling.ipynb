{
 "cells": [
  {
   "cell_type": "markdown",
   "metadata": {},
   "source": [
    "# Part 8: Uplift Modeling\n",
    "Maximizing the incremental return of your marketing campaigns.\n",
    "\n",
    "One of the most critical jobs of Growth Hacker is to be efficient by all means as much as possible. First of all, you need to be time-efficient. That means you have to quickly ideate, experiment, learn and re-iterate. Second, you need to be __cost-efficient__. It means bringing the maximum return for a given budget/time/effort.\n",
    "\n",
    "Segmentation helps Growth Hackers to increase conversion and hence be cost-efficient. But imagine a case that you are about to launch a promotional campaign and you know which segment you want to target. Do you need to send the offer to everyone?\n",
    "\n",
    "The answer is no. In your current target group, there will be customers who are going to purchase anyways. You will cannibalize yourself by giving the promotion. We can summarize the segments based on this approach like below:\n",
    "* __Treatment Responders__: Customers that will purchase only if they receive an offer\n",
    "* __Treatment Non-Responders__: Customer that won’t purchase in any case\n",
    "* __Control Responders__: Customers that will purchase without an offer\n",
    "* __Control Non-Responders__: Customers that will not purchase if they don’t receive an offer\n",
    "\n",
    "The picture is very obvious. \n",
    "> You need to target Treatment Responders (TR) and Control Non-Responders (CN). \n",
    "\n",
    "Since they won’t purchase unless you give an offer, these groups are boosting your uplift in promotional campaigns. On the other hand, you need to avoid targeting Treatment Non-Responders (TN) and Control Responders (CR). You will not benefit from targeting TN and, CN will make you cannibalize.\n",
    "\n",
    "There is one last simple thing to do. We need to identify which customers fall into which buckets. The answer is Uplift Modeling. It has two simple steps:\n",
    "1. Predict the probabilities of being in each group for all customers: we are going to build a multi-classification model for that.\n",
    "1. We will calculate the uplift score. Uplift score formula is:\n",
    "\n",
    "> `Uplift Score = Ptr + Pcn - Ptn - Pcr`\n",
    "\n",
    "We will sum up the probability of being __TR__ and __CN__ and subtract the probability of falling into other buckets. The higher score means higher uplift."
   ]
  },
  {
   "cell_type": "code",
   "execution_count": 1,
   "metadata": {},
   "outputs": [],
   "source": [
    "from datetime import datetime, timedelta, date\n",
    "\n",
    "# import libraries\n",
    "import pandas as pd\n",
    "import matplotlib.pyplot as plt\n",
    "import numpy as np\n",
    "import seaborn as sns\n",
    "%matplotlib inline\n",
    "\n",
    "#do not show warnings\n",
    "import warnings\n",
    "warnings.filterwarnings(\"ignore\")\n",
    "\n",
    "#import plotly for visualization\n",
    "import plotly.graph_objects as go\n",
    "import plotly.figure_factory as ff\n",
    "\n",
    "#import machine learning related libraries\n",
    "import xgboost as xgb\n",
    "from sklearn.cluster import KMeans\n",
    "from sklearn.model_selection import KFold, cross_val_score, train_test_split\n",
    "from sklearn.metrics import classification_report, confusion_matrix\n",
    "\n",
    "import growth_kit as gk"
   ]
  },
  {
   "cell_type": "code",
   "execution_count": 37,
   "metadata": {},
   "outputs": [],
   "source": [
    "def calc_uplift(df):\n",
    "    #assigning 25$ to the average order value\n",
    "    avg_order_value = 25\n",
    "    \n",
    "    #size of groups\n",
    "    base_size = len(df[df['offer'] == 'No Offer'])\n",
    "    disc_size = len(df[df['offer'] == 'Discount'])\n",
    "    bogo_size = len(df[df['offer'] == 'Buy One Get One'])\n",
    "    \n",
    "    #calculate conversions for each offer type\n",
    "    base_conv = df[df.offer == 'No Offer']['conversion'].mean()\n",
    "    disc_conv = df[df.offer == 'Discount']['conversion'].mean()\n",
    "    bogo_conv = df[df.offer == 'Buy One Get One']['conversion'].mean()\n",
    "    \n",
    "    #calculate conversion uplift for discount and bogo\n",
    "    disc_conv_uplift = disc_conv - base_conv\n",
    "    bogo_conv_uplift = bogo_conv - base_conv\n",
    "    \n",
    "    #calculate order uplift\n",
    "    disc_order_uplift = disc_conv_uplift * len(df.loc[(df.offer == 'Discount'), 'conversion'])\n",
    "    bogo_order_uplift = bogo_conv_uplift * len(df.loc[(df.offer == 'Buy One Get One'), 'conversion'])\n",
    "    \n",
    "    #calculate revenue uplift\n",
    "    disc_rev_uplift = disc_order_uplift * avg_order_value\n",
    "    bogo_rev_uplift = bogo_order_uplift * avg_order_value\n",
    "        \n",
    "    print('Total Targeted Customer Count: {0}'.format(disc_size))\n",
    "    print('Discount Conversion Uplift: {0}%'.format(np.round(disc_conv_uplift*100,2)))\n",
    "    print('Discount Order Uplift: {0}'.format(np.round(disc_order_uplift,2)))\n",
    "    print('Discount Revenue Uplift: ${0}'.format(np.round(disc_rev_uplift,2)))\n",
    "    print('Revenue Uplift Per Targeted Customer: ${0}\\n'.format(np.round(disc_rev_uplift/disc_size, 2)))\n",
    "          \n",
    "    if len(df[df.offer == 'Buy One Get One']['conversion']) > 0:\n",
    "        print('-------------- \\n')\n",
    "\n",
    "        print('Total Targeted Customer Count: {0}'.format(bogo_size))\n",
    "        print('BOGO Conversion Uplift: {0}%'.format(np.round(bogo_conv_uplift*100,2)))\n",
    "        print('BOGO Order Uplift: {0}'.format(np.round(bogo_order_uplift,2)))\n",
    "        print('BOGO Revenue Uplift: ${0}'.format(np.round(bogo_rev_uplift,2)))\n",
    "        print('Revenue Uplift Per Targeted Customer: ${0}\\n'.format(np.round(bogo_rev_uplift/bogo_size, 2)))"
   ]
  },
  {
   "cell_type": "code",
   "execution_count": 3,
   "metadata": {},
   "outputs": [
    {
     "data": {
      "text/html": [
       "<div>\n",
       "<style scoped>\n",
       "    .dataframe tbody tr th:only-of-type {\n",
       "        vertical-align: middle;\n",
       "    }\n",
       "\n",
       "    .dataframe tbody tr th {\n",
       "        vertical-align: top;\n",
       "    }\n",
       "\n",
       "    .dataframe thead th {\n",
       "        text-align: right;\n",
       "    }\n",
       "</style>\n",
       "<table border=\"1\" class=\"dataframe\">\n",
       "  <thead>\n",
       "    <tr style=\"text-align: right;\">\n",
       "      <th></th>\n",
       "      <th>recency</th>\n",
       "      <th>history</th>\n",
       "      <th>used_discount</th>\n",
       "      <th>used_bogo</th>\n",
       "      <th>zip_code</th>\n",
       "      <th>is_referral</th>\n",
       "      <th>channel</th>\n",
       "      <th>offer</th>\n",
       "      <th>conversion</th>\n",
       "    </tr>\n",
       "  </thead>\n",
       "  <tbody>\n",
       "    <tr>\n",
       "      <th>0</th>\n",
       "      <td>10</td>\n",
       "      <td>142.44</td>\n",
       "      <td>1</td>\n",
       "      <td>0</td>\n",
       "      <td>Surburban</td>\n",
       "      <td>0</td>\n",
       "      <td>Phone</td>\n",
       "      <td>Buy One Get One</td>\n",
       "      <td>0</td>\n",
       "    </tr>\n",
       "    <tr>\n",
       "      <th>1</th>\n",
       "      <td>6</td>\n",
       "      <td>329.08</td>\n",
       "      <td>1</td>\n",
       "      <td>1</td>\n",
       "      <td>Rural</td>\n",
       "      <td>1</td>\n",
       "      <td>Web</td>\n",
       "      <td>No Offer</td>\n",
       "      <td>0</td>\n",
       "    </tr>\n",
       "    <tr>\n",
       "      <th>2</th>\n",
       "      <td>7</td>\n",
       "      <td>180.65</td>\n",
       "      <td>0</td>\n",
       "      <td>1</td>\n",
       "      <td>Surburban</td>\n",
       "      <td>1</td>\n",
       "      <td>Web</td>\n",
       "      <td>Buy One Get One</td>\n",
       "      <td>0</td>\n",
       "    </tr>\n",
       "    <tr>\n",
       "      <th>3</th>\n",
       "      <td>9</td>\n",
       "      <td>675.83</td>\n",
       "      <td>1</td>\n",
       "      <td>0</td>\n",
       "      <td>Rural</td>\n",
       "      <td>1</td>\n",
       "      <td>Web</td>\n",
       "      <td>Discount</td>\n",
       "      <td>0</td>\n",
       "    </tr>\n",
       "    <tr>\n",
       "      <th>4</th>\n",
       "      <td>2</td>\n",
       "      <td>45.34</td>\n",
       "      <td>1</td>\n",
       "      <td>0</td>\n",
       "      <td>Urban</td>\n",
       "      <td>0</td>\n",
       "      <td>Web</td>\n",
       "      <td>Buy One Get One</td>\n",
       "      <td>0</td>\n",
       "    </tr>\n",
       "    <tr>\n",
       "      <th>5</th>\n",
       "      <td>6</td>\n",
       "      <td>134.83</td>\n",
       "      <td>0</td>\n",
       "      <td>1</td>\n",
       "      <td>Surburban</td>\n",
       "      <td>0</td>\n",
       "      <td>Phone</td>\n",
       "      <td>Buy One Get One</td>\n",
       "      <td>1</td>\n",
       "    </tr>\n",
       "    <tr>\n",
       "      <th>6</th>\n",
       "      <td>9</td>\n",
       "      <td>280.20</td>\n",
       "      <td>1</td>\n",
       "      <td>0</td>\n",
       "      <td>Surburban</td>\n",
       "      <td>1</td>\n",
       "      <td>Phone</td>\n",
       "      <td>Buy One Get One</td>\n",
       "      <td>0</td>\n",
       "    </tr>\n",
       "    <tr>\n",
       "      <th>7</th>\n",
       "      <td>9</td>\n",
       "      <td>46.42</td>\n",
       "      <td>0</td>\n",
       "      <td>1</td>\n",
       "      <td>Urban</td>\n",
       "      <td>0</td>\n",
       "      <td>Phone</td>\n",
       "      <td>Buy One Get One</td>\n",
       "      <td>0</td>\n",
       "    </tr>\n",
       "    <tr>\n",
       "      <th>8</th>\n",
       "      <td>9</td>\n",
       "      <td>675.07</td>\n",
       "      <td>1</td>\n",
       "      <td>1</td>\n",
       "      <td>Rural</td>\n",
       "      <td>1</td>\n",
       "      <td>Phone</td>\n",
       "      <td>Discount</td>\n",
       "      <td>0</td>\n",
       "    </tr>\n",
       "    <tr>\n",
       "      <th>9</th>\n",
       "      <td>10</td>\n",
       "      <td>32.84</td>\n",
       "      <td>0</td>\n",
       "      <td>1</td>\n",
       "      <td>Urban</td>\n",
       "      <td>1</td>\n",
       "      <td>Web</td>\n",
       "      <td>Buy One Get One</td>\n",
       "      <td>0</td>\n",
       "    </tr>\n",
       "  </tbody>\n",
       "</table>\n",
       "</div>"
      ],
      "text/plain": [
       "   recency  history  used_discount  used_bogo   zip_code  is_referral channel  \\\n",
       "0       10   142.44              1          0  Surburban            0   Phone   \n",
       "1        6   329.08              1          1      Rural            1     Web   \n",
       "2        7   180.65              0          1  Surburban            1     Web   \n",
       "3        9   675.83              1          0      Rural            1     Web   \n",
       "4        2    45.34              1          0      Urban            0     Web   \n",
       "5        6   134.83              0          1  Surburban            0   Phone   \n",
       "6        9   280.20              1          0  Surburban            1   Phone   \n",
       "7        9    46.42              0          1      Urban            0   Phone   \n",
       "8        9   675.07              1          1      Rural            1   Phone   \n",
       "9       10    32.84              0          1      Urban            1     Web   \n",
       "\n",
       "             offer  conversion  \n",
       "0  Buy One Get One           0  \n",
       "1         No Offer           0  \n",
       "2  Buy One Get One           0  \n",
       "3         Discount           0  \n",
       "4  Buy One Get One           0  \n",
       "5  Buy One Get One           1  \n",
       "6  Buy One Get One           0  \n",
       "7  Buy One Get One           0  \n",
       "8         Discount           0  \n",
       "9  Buy One Get One           0  "
      ]
     },
     "execution_count": 3,
     "metadata": {},
     "output_type": "execute_result"
    }
   ],
   "source": [
    "#import the data\n",
    "df_data = pd.read_csv('data/response_data.csv')\n",
    "\n",
    "#print first 10 rows\n",
    "df_data.head(10)"
   ]
  },
  {
   "cell_type": "code",
   "execution_count": 4,
   "metadata": {},
   "outputs": [
    {
     "name": "stdout",
     "output_type": "stream",
     "text": [
      "<class 'pandas.core.frame.DataFrame'>\n",
      "RangeIndex: 64000 entries, 0 to 63999\n",
      "Data columns (total 9 columns):\n",
      " #   Column         Non-Null Count  Dtype  \n",
      "---  ------         --------------  -----  \n",
      " 0   recency        64000 non-null  int64  \n",
      " 1   history        64000 non-null  float64\n",
      " 2   used_discount  64000 non-null  int64  \n",
      " 3   used_bogo      64000 non-null  int64  \n",
      " 4   zip_code       64000 non-null  object \n",
      " 5   is_referral    64000 non-null  int64  \n",
      " 6   channel        64000 non-null  object \n",
      " 7   offer          64000 non-null  object \n",
      " 8   conversion     64000 non-null  int64  \n",
      "dtypes: float64(1), int64(5), object(3)\n",
      "memory usage: 4.4+ MB\n"
     ]
    }
   ],
   "source": [
    "df_data.info()"
   ]
  },
  {
   "cell_type": "code",
   "execution_count": 5,
   "metadata": {},
   "outputs": [
    {
     "data": {
      "text/plain": [
       "0.14678125"
      ]
     },
     "execution_count": 5,
     "metadata": {},
     "output_type": "execute_result"
    }
   ],
   "source": [
    "df_data.conversion.mean()"
   ]
  },
  {
   "cell_type": "markdown",
   "metadata": {},
   "source": [
    "We have the data of customers who received Discount and Buy One Get One offers and how they reacted. We also have a control group that didn’t receive anything.\n",
    "\n",
    "Column descriptions are as follows:\n",
    "\n",
    "* __recency__: months since last purchase\n",
    "* __history__: $value of the historical purchases\n",
    "* __used_discount/used_bogo__: indicates if the customer used a discount or buy one get one before\n",
    "* __zip_code__: class of the zip code as Suburban/Urban/Rural\n",
    "* __is_referral__: indicates if the customer was acquired from referral channel\n",
    "* __channel__: channels that the customer using, Phone/Web/Multichannel\n",
    "* __offer__: the offers sent to the customers, Discount/But One Get One/No Offer\n",
    "\n",
    "Before building the model, let’s apply our calc_uplift function to see the current uplift of this campaign as a benchmark:"
   ]
  },
  {
   "cell_type": "code",
   "execution_count": 6,
   "metadata": {},
   "outputs": [
    {
     "name": "stdout",
     "output_type": "stream",
     "text": [
      "Discount Conversion Uplift: 7.66%\n",
      "Discount Order Uplift: 1631.89\n",
      "Discount Revenue Uplift: $40797.35\n",
      "\n",
      "-------------- \n",
      "\n",
      "BOGO Conversion Uplift: 4.52%\n",
      "BOGO Order Uplift: 967.4\n",
      "BOGO Revenue Uplift: $24185.01\n"
     ]
    }
   ],
   "source": [
    "calc_uplift(df_data)"
   ]
  },
  {
   "cell_type": "markdown",
   "metadata": {},
   "source": [
    "Conversion uplift is 7.66% for discount and 4.52% for buy one get one (BOGO).\n",
    "Next, we will start building our model."
   ]
  },
  {
   "cell_type": "markdown",
   "metadata": {},
   "source": [
    "## Multi-classification Model for Predicting the Uplift Score\n",
    "Currently, our label is if a customer converted or not (1 or 0). We need to create four classes for TR, TN, CR, and CN. We know that the customers who received discount and bogo offers are Treatment and the rest is control. Let’s create a __campaign_group__ column make this info visible:"
   ]
  },
  {
   "cell_type": "code",
   "execution_count": 7,
   "metadata": {},
   "outputs": [],
   "source": [
    "df_data['campaign_group'] = 'treatment'\n",
    "df_data.loc[df_data.offer == 'No Offer', 'campaign_group'] = 'control'"
   ]
  },
  {
   "cell_type": "markdown",
   "metadata": {},
   "source": [
    "Perfect, now we need to create our new labels:"
   ]
  },
  {
   "cell_type": "code",
   "execution_count": 8,
   "metadata": {},
   "outputs": [],
   "source": [
    "df_data['target_class'] = 0 #CN\n",
    "df_data.loc[(df_data.campaign_group == 'control') & (df_data.conversion > 0),'target_class'] = 1 #CR\n",
    "df_data.loc[(df_data.campaign_group == 'treatment') & (df_data.conversion == 0),'target_class'] = 2 #TN\n",
    "df_data.loc[(df_data.campaign_group == 'treatment') & (df_data.conversion > 0),'target_class'] = 3 #TR"
   ]
  },
  {
   "cell_type": "code",
   "execution_count": 13,
   "metadata": {},
   "outputs": [
    {
     "data": {
      "text/plain": [
       "0    19044\n",
       "1     2262\n",
       "2    35562\n",
       "3     7132\n",
       "Name: target_class, dtype: int64"
      ]
     },
     "execution_count": 13,
     "metadata": {},
     "output_type": "execute_result"
    }
   ],
   "source": [
    "df_data.target_class.value_counts().sort_index()"
   ]
  },
  {
   "cell_type": "code",
   "execution_count": 14,
   "metadata": {},
   "outputs": [
    {
     "data": {
      "text/plain": [
       "0    0.297563\n",
       "1    0.035344\n",
       "2    0.555656\n",
       "3    0.111437\n",
       "Name: target_class, dtype: float64"
      ]
     },
     "execution_count": 14,
     "metadata": {},
     "output_type": "execute_result"
    }
   ],
   "source": [
    "df_data.target_class.value_counts(normalize=True).sort_index()"
   ]
  },
  {
   "cell_type": "markdown",
   "metadata": {},
   "source": [
    "In this example, the mapping of the classes are below:\n",
    "* 0 -> Control Non-Responders\n",
    "* 1 -> Control Responders\n",
    "* 2 -> Treatment Non-Responders\n",
    "* 3 -> Treatment Responders\n",
    "\n",
    "There is one small feature engineering step before training our model. We will create clusters from history column and apply get_dummies for converting categorical columns into numerical:"
   ]
  },
  {
   "cell_type": "code",
   "execution_count": 9,
   "metadata": {},
   "outputs": [],
   "source": [
    "#creating the clusters\n",
    "kmeans = KMeans(n_clusters=5)\n",
    "kmeans.fit(df_data[['history']])\n",
    "df_data['history_cluster'] = kmeans.predict(df_data[['history']])\n",
    "\n",
    "#order the clusters\n",
    "df_data = gk.order_cluster('history_cluster', 'history',df_data,True)"
   ]
  },
  {
   "cell_type": "code",
   "execution_count": 10,
   "metadata": {},
   "outputs": [],
   "source": [
    "#creating a new dataframe as model and dropping columns that defines the label\n",
    "df_model = df_data.drop(['offer','campaign_group','conversion'],axis=1)\n",
    "\n",
    "#convert categorical columns\n",
    "df_model = pd.get_dummies(df_model)"
   ]
  },
  {
   "cell_type": "code",
   "execution_count": 15,
   "metadata": {},
   "outputs": [
    {
     "data": {
      "text/html": [
       "<div>\n",
       "<style scoped>\n",
       "    .dataframe tbody tr th:only-of-type {\n",
       "        vertical-align: middle;\n",
       "    }\n",
       "\n",
       "    .dataframe tbody tr th {\n",
       "        vertical-align: top;\n",
       "    }\n",
       "\n",
       "    .dataframe thead th {\n",
       "        text-align: right;\n",
       "    }\n",
       "</style>\n",
       "<table border=\"1\" class=\"dataframe\">\n",
       "  <thead>\n",
       "    <tr style=\"text-align: right;\">\n",
       "      <th></th>\n",
       "      <th>recency</th>\n",
       "      <th>history</th>\n",
       "      <th>used_discount</th>\n",
       "      <th>used_bogo</th>\n",
       "      <th>is_referral</th>\n",
       "      <th>target_class</th>\n",
       "      <th>history_cluster</th>\n",
       "      <th>zip_code_Rural</th>\n",
       "      <th>zip_code_Surburban</th>\n",
       "      <th>zip_code_Urban</th>\n",
       "      <th>channel_Multichannel</th>\n",
       "      <th>channel_Phone</th>\n",
       "      <th>channel_Web</th>\n",
       "    </tr>\n",
       "  </thead>\n",
       "  <tbody>\n",
       "    <tr>\n",
       "      <th>0</th>\n",
       "      <td>10</td>\n",
       "      <td>142.44</td>\n",
       "      <td>1</td>\n",
       "      <td>0</td>\n",
       "      <td>0</td>\n",
       "      <td>2</td>\n",
       "      <td>0</td>\n",
       "      <td>0</td>\n",
       "      <td>1</td>\n",
       "      <td>0</td>\n",
       "      <td>0</td>\n",
       "      <td>1</td>\n",
       "      <td>0</td>\n",
       "    </tr>\n",
       "    <tr>\n",
       "      <th>1</th>\n",
       "      <td>2</td>\n",
       "      <td>45.34</td>\n",
       "      <td>1</td>\n",
       "      <td>0</td>\n",
       "      <td>0</td>\n",
       "      <td>2</td>\n",
       "      <td>0</td>\n",
       "      <td>0</td>\n",
       "      <td>0</td>\n",
       "      <td>1</td>\n",
       "      <td>0</td>\n",
       "      <td>0</td>\n",
       "      <td>1</td>\n",
       "    </tr>\n",
       "    <tr>\n",
       "      <th>2</th>\n",
       "      <td>6</td>\n",
       "      <td>134.83</td>\n",
       "      <td>0</td>\n",
       "      <td>1</td>\n",
       "      <td>0</td>\n",
       "      <td>3</td>\n",
       "      <td>0</td>\n",
       "      <td>0</td>\n",
       "      <td>1</td>\n",
       "      <td>0</td>\n",
       "      <td>0</td>\n",
       "      <td>1</td>\n",
       "      <td>0</td>\n",
       "    </tr>\n",
       "    <tr>\n",
       "      <th>3</th>\n",
       "      <td>9</td>\n",
       "      <td>46.42</td>\n",
       "      <td>0</td>\n",
       "      <td>1</td>\n",
       "      <td>0</td>\n",
       "      <td>2</td>\n",
       "      <td>0</td>\n",
       "      <td>0</td>\n",
       "      <td>0</td>\n",
       "      <td>1</td>\n",
       "      <td>0</td>\n",
       "      <td>1</td>\n",
       "      <td>0</td>\n",
       "    </tr>\n",
       "    <tr>\n",
       "      <th>4</th>\n",
       "      <td>10</td>\n",
       "      <td>32.84</td>\n",
       "      <td>0</td>\n",
       "      <td>1</td>\n",
       "      <td>1</td>\n",
       "      <td>2</td>\n",
       "      <td>0</td>\n",
       "      <td>0</td>\n",
       "      <td>0</td>\n",
       "      <td>1</td>\n",
       "      <td>0</td>\n",
       "      <td>0</td>\n",
       "      <td>1</td>\n",
       "    </tr>\n",
       "  </tbody>\n",
       "</table>\n",
       "</div>"
      ],
      "text/plain": [
       "   recency  history  used_discount  used_bogo  is_referral  target_class  \\\n",
       "0       10   142.44              1          0            0             2   \n",
       "1        2    45.34              1          0            0             2   \n",
       "2        6   134.83              0          1            0             3   \n",
       "3        9    46.42              0          1            0             2   \n",
       "4       10    32.84              0          1            1             2   \n",
       "\n",
       "   history_cluster  zip_code_Rural  zip_code_Surburban  zip_code_Urban  \\\n",
       "0                0               0                   1               0   \n",
       "1                0               0                   0               1   \n",
       "2                0               0                   1               0   \n",
       "3                0               0                   0               1   \n",
       "4                0               0                   0               1   \n",
       "\n",
       "   channel_Multichannel  channel_Phone  channel_Web  \n",
       "0                     0              1            0  \n",
       "1                     0              0            1  \n",
       "2                     0              1            0  \n",
       "3                     0              1            0  \n",
       "4                     0              0            1  "
      ]
     },
     "execution_count": 15,
     "metadata": {},
     "output_type": "execute_result"
    }
   ],
   "source": [
    "df_model.head()"
   ]
  },
  {
   "cell_type": "markdown",
   "metadata": {},
   "source": [
    "Let’s fit our model and get the probabilities for each class:"
   ]
  },
  {
   "cell_type": "code",
   "execution_count": 16,
   "metadata": {},
   "outputs": [],
   "source": [
    "#create feature set and labels\n",
    "X = df_model.drop(['target_class'],axis=1)\n",
    "y = df_model.target_class"
   ]
  },
  {
   "cell_type": "code",
   "execution_count": 17,
   "metadata": {},
   "outputs": [
    {
     "data": {
      "text/plain": [
       "Index(['recency', 'history', 'used_discount', 'used_bogo', 'is_referral',\n",
       "       'history_cluster', 'zip_code_Rural', 'zip_code_Surburban',\n",
       "       'zip_code_Urban', 'channel_Multichannel', 'channel_Phone',\n",
       "       'channel_Web'],\n",
       "      dtype='object')"
      ]
     },
     "execution_count": 17,
     "metadata": {},
     "output_type": "execute_result"
    }
   ],
   "source": [
    "X.columns"
   ]
  },
  {
   "cell_type": "code",
   "execution_count": 18,
   "metadata": {},
   "outputs": [],
   "source": [
    "#splitting train and test groups\n",
    "X_train, X_test, y_train, y_test = train_test_split(X, y, test_size=0.2, random_state=56)"
   ]
  },
  {
   "cell_type": "code",
   "execution_count": 19,
   "metadata": {},
   "outputs": [],
   "source": [
    "#fitting the model and predicting the probabilities\n",
    "xgb_model = xgb.XGBClassifier().fit(X_train, y_train)\n",
    "class_probs = xgb_model.predict_proba(X_test)"
   ]
  },
  {
   "cell_type": "markdown",
   "metadata": {},
   "source": [
    "Variable class_probs possesses the probabilities for each customer. Let’s check out an example:"
   ]
  },
  {
   "cell_type": "code",
   "execution_count": 20,
   "metadata": {},
   "outputs": [
    {
     "data": {
      "text/plain": [
       "array([0.27972656, 0.0536616 , 0.45044246, 0.21616942], dtype=float32)"
      ]
     },
     "execution_count": 20,
     "metadata": {},
     "output_type": "execute_result"
    }
   ],
   "source": [
    "class_probs[0]"
   ]
  },
  {
   "cell_type": "markdown",
   "metadata": {},
   "source": [
    "For this specific customer, we can map the probabilities as below:\n",
    "* CN: 28%\n",
    "* CR: 5.4%\n",
    "* TN: 45%\n",
    "* TR: 21.6%\n",
    "\n",
    "So the uplift score for this customer is:\n",
    "> `0.28 + 0.216 - 0.054 - 0.45 = -0.008`"
   ]
  },
  {
   "cell_type": "code",
   "execution_count": 26,
   "metadata": {},
   "outputs": [],
   "source": [
    "X_test['proba_CN'] = class_probs[:,0] \n",
    "X_test['proba_CR'] = class_probs[:,1] \n",
    "X_test['proba_TN'] = class_probs[:,2] \n",
    "X_test['proba_TR'] = class_probs[:,3] "
   ]
  },
  {
   "cell_type": "code",
   "execution_count": 27,
   "metadata": {},
   "outputs": [],
   "source": [
    "X_test['uplift_score'] = X_test.eval('proba_CN + proba_TR - proba_TN - proba_CR')"
   ]
  },
  {
   "cell_type": "code",
   "execution_count": 28,
   "metadata": {},
   "outputs": [
    {
     "data": {
      "text/html": [
       "<div>\n",
       "<style scoped>\n",
       "    .dataframe tbody tr th:only-of-type {\n",
       "        vertical-align: middle;\n",
       "    }\n",
       "\n",
       "    .dataframe tbody tr th {\n",
       "        vertical-align: top;\n",
       "    }\n",
       "\n",
       "    .dataframe thead th {\n",
       "        text-align: right;\n",
       "    }\n",
       "</style>\n",
       "<table border=\"1\" class=\"dataframe\">\n",
       "  <thead>\n",
       "    <tr style=\"text-align: right;\">\n",
       "      <th></th>\n",
       "      <th>recency</th>\n",
       "      <th>history</th>\n",
       "      <th>used_discount</th>\n",
       "      <th>used_bogo</th>\n",
       "      <th>is_referral</th>\n",
       "      <th>history_cluster</th>\n",
       "      <th>zip_code_Rural</th>\n",
       "      <th>zip_code_Surburban</th>\n",
       "      <th>zip_code_Urban</th>\n",
       "      <th>channel_Multichannel</th>\n",
       "      <th>channel_Phone</th>\n",
       "      <th>channel_Web</th>\n",
       "      <th>proba_CN</th>\n",
       "      <th>proba_CR</th>\n",
       "      <th>proba_TN</th>\n",
       "      <th>proba_TR</th>\n",
       "      <th>uplift_score</th>\n",
       "    </tr>\n",
       "  </thead>\n",
       "  <tbody>\n",
       "    <tr>\n",
       "      <th>32277</th>\n",
       "      <td>1</td>\n",
       "      <td>305.09</td>\n",
       "      <td>1</td>\n",
       "      <td>1</td>\n",
       "      <td>0</td>\n",
       "      <td>1</td>\n",
       "      <td>0</td>\n",
       "      <td>1</td>\n",
       "      <td>0</td>\n",
       "      <td>0</td>\n",
       "      <td>1</td>\n",
       "      <td>0</td>\n",
       "      <td>0.279727</td>\n",
       "      <td>0.053662</td>\n",
       "      <td>0.450442</td>\n",
       "      <td>0.216169</td>\n",
       "      <td>-0.008208</td>\n",
       "    </tr>\n",
       "    <tr>\n",
       "      <th>12824</th>\n",
       "      <td>2</td>\n",
       "      <td>29.99</td>\n",
       "      <td>1</td>\n",
       "      <td>0</td>\n",
       "      <td>0</td>\n",
       "      <td>0</td>\n",
       "      <td>1</td>\n",
       "      <td>0</td>\n",
       "      <td>0</td>\n",
       "      <td>0</td>\n",
       "      <td>0</td>\n",
       "      <td>1</td>\n",
       "      <td>0.261329</td>\n",
       "      <td>0.069869</td>\n",
       "      <td>0.511080</td>\n",
       "      <td>0.157722</td>\n",
       "      <td>-0.161898</td>\n",
       "    </tr>\n",
       "    <tr>\n",
       "      <th>20159</th>\n",
       "      <td>3</td>\n",
       "      <td>77.60</td>\n",
       "      <td>1</td>\n",
       "      <td>0</td>\n",
       "      <td>1</td>\n",
       "      <td>0</td>\n",
       "      <td>1</td>\n",
       "      <td>0</td>\n",
       "      <td>0</td>\n",
       "      <td>0</td>\n",
       "      <td>1</td>\n",
       "      <td>0</td>\n",
       "      <td>0.316717</td>\n",
       "      <td>0.037487</td>\n",
       "      <td>0.556986</td>\n",
       "      <td>0.088810</td>\n",
       "      <td>-0.188947</td>\n",
       "    </tr>\n",
       "    <tr>\n",
       "      <th>41575</th>\n",
       "      <td>4</td>\n",
       "      <td>257.32</td>\n",
       "      <td>0</td>\n",
       "      <td>1</td>\n",
       "      <td>1</td>\n",
       "      <td>1</td>\n",
       "      <td>0</td>\n",
       "      <td>1</td>\n",
       "      <td>0</td>\n",
       "      <td>0</td>\n",
       "      <td>0</td>\n",
       "      <td>1</td>\n",
       "      <td>0.301577</td>\n",
       "      <td>0.026058</td>\n",
       "      <td>0.568334</td>\n",
       "      <td>0.104031</td>\n",
       "      <td>-0.188783</td>\n",
       "    </tr>\n",
       "    <tr>\n",
       "      <th>10736</th>\n",
       "      <td>7</td>\n",
       "      <td>115.10</td>\n",
       "      <td>1</td>\n",
       "      <td>0</td>\n",
       "      <td>0</td>\n",
       "      <td>0</td>\n",
       "      <td>0</td>\n",
       "      <td>1</td>\n",
       "      <td>0</td>\n",
       "      <td>0</td>\n",
       "      <td>1</td>\n",
       "      <td>0</td>\n",
       "      <td>0.304121</td>\n",
       "      <td>0.037819</td>\n",
       "      <td>0.569774</td>\n",
       "      <td>0.088287</td>\n",
       "      <td>-0.215185</td>\n",
       "    </tr>\n",
       "  </tbody>\n",
       "</table>\n",
       "</div>"
      ],
      "text/plain": [
       "       recency  history  used_discount  used_bogo  is_referral  \\\n",
       "32277        1   305.09              1          1            0   \n",
       "12824        2    29.99              1          0            0   \n",
       "20159        3    77.60              1          0            1   \n",
       "41575        4   257.32              0          1            1   \n",
       "10736        7   115.10              1          0            0   \n",
       "\n",
       "       history_cluster  zip_code_Rural  zip_code_Surburban  zip_code_Urban  \\\n",
       "32277                1               0                   1               0   \n",
       "12824                0               1                   0               0   \n",
       "20159                0               1                   0               0   \n",
       "41575                1               0                   1               0   \n",
       "10736                0               0                   1               0   \n",
       "\n",
       "       channel_Multichannel  channel_Phone  channel_Web  proba_CN  proba_CR  \\\n",
       "32277                     0              1            0  0.279727  0.053662   \n",
       "12824                     0              0            1  0.261329  0.069869   \n",
       "20159                     0              1            0  0.316717  0.037487   \n",
       "41575                     0              0            1  0.301577  0.026058   \n",
       "10736                     0              1            0  0.304121  0.037819   \n",
       "\n",
       "       proba_TN  proba_TR  uplift_score  \n",
       "32277  0.450442  0.216169     -0.008208  \n",
       "12824  0.511080  0.157722     -0.161898  \n",
       "20159  0.556986  0.088810     -0.188947  \n",
       "41575  0.568334  0.104031     -0.188783  \n",
       "10736  0.569774  0.088287     -0.215185  "
      ]
     },
     "execution_count": 28,
     "metadata": {},
     "output_type": "execute_result"
    }
   ],
   "source": [
    "X_test.head()"
   ]
  },
  {
   "cell_type": "markdown",
   "metadata": {},
   "source": [
    "Let’s apply this to all users and calculate the uplift score:"
   ]
  },
  {
   "cell_type": "code",
   "execution_count": 22,
   "metadata": {},
   "outputs": [],
   "source": [
    "#probabilities for all customers\n",
    "overall_proba = xgb_model.predict_proba(df_model.drop(['target_class'],axis=1))"
   ]
  },
  {
   "cell_type": "code",
   "execution_count": 23,
   "metadata": {},
   "outputs": [],
   "source": [
    "#assign probabilities to 4 different columns\n",
    "df_model['proba_CN'] = overall_proba[:,0] \n",
    "df_model['proba_CR'] = overall_proba[:,1] \n",
    "df_model['proba_TN'] = overall_proba[:,2] \n",
    "df_model['proba_TR'] = overall_proba[:,3]"
   ]
  },
  {
   "cell_type": "code",
   "execution_count": 24,
   "metadata": {},
   "outputs": [],
   "source": [
    "#calculate uplift score for all customers\n",
    "df_model['uplift_score'] = df_model.eval('proba_CN + proba_TR - proba_TN - proba_CR')"
   ]
  },
  {
   "cell_type": "code",
   "execution_count": 25,
   "metadata": {},
   "outputs": [],
   "source": [
    "#assign it back to main dataframe\n",
    "df_data['uplift_score'] = df_model['uplift_score']"
   ]
  },
  {
   "cell_type": "markdown",
   "metadata": {},
   "source": [
    "By running the code above, we added a uplift_score column in our main dataframe and it looks like below:"
   ]
  },
  {
   "cell_type": "code",
   "execution_count": 29,
   "metadata": {},
   "outputs": [
    {
     "data": {
      "text/html": [
       "<div>\n",
       "<style scoped>\n",
       "    .dataframe tbody tr th:only-of-type {\n",
       "        vertical-align: middle;\n",
       "    }\n",
       "\n",
       "    .dataframe tbody tr th {\n",
       "        vertical-align: top;\n",
       "    }\n",
       "\n",
       "    .dataframe thead th {\n",
       "        text-align: right;\n",
       "    }\n",
       "</style>\n",
       "<table border=\"1\" class=\"dataframe\">\n",
       "  <thead>\n",
       "    <tr style=\"text-align: right;\">\n",
       "      <th></th>\n",
       "      <th>recency</th>\n",
       "      <th>history</th>\n",
       "      <th>used_discount</th>\n",
       "      <th>used_bogo</th>\n",
       "      <th>zip_code</th>\n",
       "      <th>is_referral</th>\n",
       "      <th>channel</th>\n",
       "      <th>offer</th>\n",
       "      <th>conversion</th>\n",
       "      <th>campaign_group</th>\n",
       "      <th>target_class</th>\n",
       "      <th>history_cluster</th>\n",
       "      <th>uplift_score</th>\n",
       "    </tr>\n",
       "  </thead>\n",
       "  <tbody>\n",
       "    <tr>\n",
       "      <th>0</th>\n",
       "      <td>10</td>\n",
       "      <td>142.44</td>\n",
       "      <td>1</td>\n",
       "      <td>0</td>\n",
       "      <td>Surburban</td>\n",
       "      <td>0</td>\n",
       "      <td>Phone</td>\n",
       "      <td>Buy One Get One</td>\n",
       "      <td>0</td>\n",
       "      <td>treatment</td>\n",
       "      <td>2</td>\n",
       "      <td>0</td>\n",
       "      <td>-0.205117</td>\n",
       "    </tr>\n",
       "    <tr>\n",
       "      <th>1</th>\n",
       "      <td>2</td>\n",
       "      <td>45.34</td>\n",
       "      <td>1</td>\n",
       "      <td>0</td>\n",
       "      <td>Urban</td>\n",
       "      <td>0</td>\n",
       "      <td>Web</td>\n",
       "      <td>Buy One Get One</td>\n",
       "      <td>0</td>\n",
       "      <td>treatment</td>\n",
       "      <td>2</td>\n",
       "      <td>0</td>\n",
       "      <td>-0.159743</td>\n",
       "    </tr>\n",
       "    <tr>\n",
       "      <th>2</th>\n",
       "      <td>6</td>\n",
       "      <td>134.83</td>\n",
       "      <td>0</td>\n",
       "      <td>1</td>\n",
       "      <td>Surburban</td>\n",
       "      <td>0</td>\n",
       "      <td>Phone</td>\n",
       "      <td>Buy One Get One</td>\n",
       "      <td>1</td>\n",
       "      <td>treatment</td>\n",
       "      <td>3</td>\n",
       "      <td>0</td>\n",
       "      <td>-0.160533</td>\n",
       "    </tr>\n",
       "    <tr>\n",
       "      <th>3</th>\n",
       "      <td>9</td>\n",
       "      <td>46.42</td>\n",
       "      <td>0</td>\n",
       "      <td>1</td>\n",
       "      <td>Urban</td>\n",
       "      <td>0</td>\n",
       "      <td>Phone</td>\n",
       "      <td>Buy One Get One</td>\n",
       "      <td>0</td>\n",
       "      <td>treatment</td>\n",
       "      <td>2</td>\n",
       "      <td>0</td>\n",
       "      <td>-0.177132</td>\n",
       "    </tr>\n",
       "    <tr>\n",
       "      <th>4</th>\n",
       "      <td>10</td>\n",
       "      <td>32.84</td>\n",
       "      <td>0</td>\n",
       "      <td>1</td>\n",
       "      <td>Urban</td>\n",
       "      <td>1</td>\n",
       "      <td>Web</td>\n",
       "      <td>Buy One Get One</td>\n",
       "      <td>0</td>\n",
       "      <td>treatment</td>\n",
       "      <td>2</td>\n",
       "      <td>0</td>\n",
       "      <td>-0.231710</td>\n",
       "    </tr>\n",
       "  </tbody>\n",
       "</table>\n",
       "</div>"
      ],
      "text/plain": [
       "   recency  history  used_discount  used_bogo   zip_code  is_referral channel  \\\n",
       "0       10   142.44              1          0  Surburban            0   Phone   \n",
       "1        2    45.34              1          0      Urban            0     Web   \n",
       "2        6   134.83              0          1  Surburban            0   Phone   \n",
       "3        9    46.42              0          1      Urban            0   Phone   \n",
       "4       10    32.84              0          1      Urban            1     Web   \n",
       "\n",
       "             offer  conversion campaign_group  target_class  history_cluster  \\\n",
       "0  Buy One Get One           0      treatment             2                0   \n",
       "1  Buy One Get One           0      treatment             2                0   \n",
       "2  Buy One Get One           1      treatment             3                0   \n",
       "3  Buy One Get One           0      treatment             2                0   \n",
       "4  Buy One Get One           0      treatment             2                0   \n",
       "\n",
       "   uplift_score  \n",
       "0     -0.205117  \n",
       "1     -0.159743  \n",
       "2     -0.160533  \n",
       "3     -0.177132  \n",
       "4     -0.231710  "
      ]
     },
     "execution_count": 29,
     "metadata": {},
     "output_type": "execute_result"
    }
   ],
   "source": [
    "df_data.head()"
   ]
  },
  {
   "cell_type": "markdown",
   "metadata": {},
   "source": [
    "It is time to check the most critical part of having this model. Is the model really working? It is a bit hard to evaluate the true performance of uplift modeling. We will check how the uplift is changing across uplift score quantiles to see if we can use the model in real life."
   ]
  },
  {
   "cell_type": "code",
   "execution_count": 39,
   "metadata": {},
   "outputs": [
    {
     "data": {
      "text/plain": [
       "offer\n",
       "Buy One Get One   -0.184177\n",
       "Discount          -0.183667\n",
       "No Offer          -0.179969\n",
       "Name: uplift_score, dtype: float32"
      ]
     },
     "execution_count": 39,
     "metadata": {},
     "output_type": "execute_result"
    }
   ],
   "source": [
    "df_data.groupby('offer').uplift_score.mean()"
   ]
  },
  {
   "cell_type": "markdown",
   "metadata": {},
   "source": [
    "## Model Evaluation\n",
    "To evaluate our model, we will create two different groups and compare them with our benchmark. Groups are:\n",
    "1. High Uplift Score: Customers have uplift score > 3rd quantile\n",
    "1. Low Uplift Score: Customers have uplift score < 2nd quantile\n",
    "\n",
    "We are going to compare:\n",
    "* Conversion uplift\n",
    "* Revenue uplift per target customer to see if our model can make our actions more efficient.\n",
    "\n",
    "Here is our benchmark for the discount campaign."
   ]
  },
  {
   "cell_type": "code",
   "execution_count": 38,
   "metadata": {},
   "outputs": [
    {
     "name": "stdout",
     "output_type": "stream",
     "text": [
      "Total Targeted Customer Count: 21307\n",
      "Discount Conversion Uplift: 7.66%\n",
      "Discount Order Uplift: 1631.89\n",
      "Discount Revenue Uplift: $40797.35\n",
      "Revenue Uplift Per Targeted Customer: $1.91\n",
      "\n"
     ]
    }
   ],
   "source": [
    "calc_uplift(df_data[df_data['offer'] != 'Buy One Get One'])"
   ]
  },
  {
   "cell_type": "markdown",
   "metadata": {},
   "source": [
    "### Evaluation on the whole dataset\n",
    "Including observations on which model was trained. Carefull! This shows performance better than actual.\n",
    "\n",
    "Let’s create the first group and see the numbers:"
   ]
  },
  {
   "cell_type": "code",
   "execution_count": 40,
   "metadata": {},
   "outputs": [],
   "source": [
    "df_data_lift = df_data.copy()\n",
    "uplift_q_75 = df_data_lift.uplift_score.quantile(0.75)\n",
    "df_data_lift = df_data_lift[(df_data_lift.offer != 'Buy One Get One') & (df_data_lift.uplift_score > uplift_q_75)].reset_index(drop=True)\n"
   ]
  },
  {
   "cell_type": "code",
   "execution_count": 41,
   "metadata": {},
   "outputs": [
    {
     "data": {
      "text/plain": [
       "10865"
      ]
     },
     "execution_count": 41,
     "metadata": {},
     "output_type": "execute_result"
    }
   ],
   "source": [
    "len(df_data_lift)"
   ]
  },
  {
   "cell_type": "code",
   "execution_count": 42,
   "metadata": {},
   "outputs": [
    {
     "name": "stdout",
     "output_type": "stream",
     "text": [
      "Total Targeted Customer Count: 5268\n",
      "Discount Conversion Uplift: 12.09%\n",
      "Discount Order Uplift: 637.02\n",
      "Discount Revenue Uplift: $15925.59\n",
      "Revenue Uplift Per Targeted Customer: $3.02\n",
      "\n"
     ]
    }
   ],
   "source": [
    "calc_uplift(df_data_lift)"
   ]
  },
  {
   "cell_type": "markdown",
   "metadata": {},
   "source": [
    "The results are great. Revenue uplift per target customer is __57%__ better and we can easily see that __25%__ of the target group is contributing to __40%__ of the revenue uplift."
   ]
  },
  {
   "cell_type": "markdown",
   "metadata": {},
   "source": [
    "We will check the same numbers for the group with the lower uplift score:"
   ]
  },
  {
   "cell_type": "code",
   "execution_count": 53,
   "metadata": {},
   "outputs": [],
   "source": [
    "df_data_lift = df_data.copy()\n",
    "uplift_q_50 = df_data_lift.uplift_score.quantile(0.5)\n",
    "df_data_lift = df_data_lift[(df_data_lift.offer != 'Buy One Get One') & (df_data_lift.uplift_score < uplift_q_50)].reset_index(drop=True)"
   ]
  },
  {
   "cell_type": "code",
   "execution_count": 54,
   "metadata": {},
   "outputs": [
    {
     "name": "stdout",
     "output_type": "stream",
     "text": [
      "Total Targeted Customer Count: 10778\n",
      "Discount Conversion Uplift: 5.83%\n",
      "Discount Order Uplift: 628.17\n",
      "Discount Revenue Uplift: $15704.3\n",
      "Revenue Uplift Per Targeted Customer: $1.46\n",
      "\n"
     ]
    }
   ],
   "source": [
    "#calculate the uplift\n",
    "calc_uplift(df_data_lift)"
   ]
  },
  {
   "cell_type": "markdown",
   "metadata": {},
   "source": [
    "As expected, revenue uplift per targeted customer decreased to __$1.4__. Moreover, the group is __50%__ of the targeted customers contributed to __37%__ of the revenue uplift.\n",
    "\n",
    "By using this model, we can easily make our campaign more efficient by:\n",
    "* Targeting specific segments based on the uplift score\n",
    "* Trying different offers based on customer’s uplift score"
   ]
  },
  {
   "cell_type": "markdown",
   "metadata": {},
   "source": [
    "### Evaluation on the X_test dataset\n",
    "This is real evalustion of results only on the test dataset. It evaluates the model perfomance (which is bad) and thus fails to demonstrate how uplift modeling impacts the revenue.\n",
    "\n",
    "Let’s create the first group and see the numbers:"
   ]
  },
  {
   "cell_type": "code",
   "execution_count": 81,
   "metadata": {},
   "outputs": [
    {
     "data": {
      "text/plain": [
       "<matplotlib.axes._subplots.AxesSubplot at 0x2352c64b688>"
      ]
     },
     "execution_count": 81,
     "metadata": {},
     "output_type": "execute_result"
    },
    {
     "data": {
      "image/png": "[encoded data removed]",
      "text/plain": [
       "<Figure size 432x288 with 1 Axes>"
      ]
     },
     "metadata": {
      "needs_background": "light"
     },
     "output_type": "display_data"
    }
   ],
   "source": [
    "X_test.uplift_score.hist()"
   ]
  },
  {
   "cell_type": "code",
   "execution_count": 70,
   "metadata": {},
   "outputs": [
    {
     "data": {
      "text/plain": [
       "(12800, 17)"
      ]
     },
     "execution_count": 70,
     "metadata": {},
     "output_type": "execute_result"
    }
   ],
   "source": [
    "X_test.shape"
   ]
  },
  {
   "cell_type": "code",
   "execution_count": 73,
   "metadata": {},
   "outputs": [],
   "source": [
    "df_data_lift = df_data.iloc[X_test.index, :].copy()\n",
    "uplift_q_75 = df_data_lift.uplift_score.quantile(0.75)\n",
    "df_data_lift = df_data_lift[(df_data_lift.offer != 'Buy One Get One') & (df_data_lift.uplift_score > uplift_q_75)].reset_index(drop=True)\n"
   ]
  },
  {
   "cell_type": "code",
   "execution_count": 74,
   "metadata": {},
   "outputs": [
    {
     "data": {
      "text/plain": [
       "2132"
      ]
     },
     "execution_count": 74,
     "metadata": {},
     "output_type": "execute_result"
    }
   ],
   "source": [
    "len(df_data_lift)"
   ]
  },
  {
   "cell_type": "code",
   "execution_count": 75,
   "metadata": {},
   "outputs": [
    {
     "name": "stdout",
     "output_type": "stream",
     "text": [
      "Total Targeted Customer Count: 1087\n",
      "Discount Conversion Uplift: 7.9%\n",
      "Discount Order Uplift: 85.85\n",
      "Discount Revenue Uplift: $2146.15\n",
      "Revenue Uplift Per Targeted Customer: $1.97\n",
      "\n"
     ]
    }
   ],
   "source": [
    "calc_uplift(df_data_lift)"
   ]
  },
  {
   "cell_type": "markdown",
   "metadata": {},
   "source": [
    "The results in the top 0.75 quantile are slightly better compared to the benchmark. But our model does not discriminate well the users."
   ]
  },
  {
   "cell_type": "markdown",
   "metadata": {},
   "source": [
    "We will check the same numbers for the group with the lower uplift score (below 0.5 quantile):"
   ]
  },
  {
   "cell_type": "code",
   "execution_count": 76,
   "metadata": {},
   "outputs": [],
   "source": [
    "df_data_lift = df_data.iloc[X_test.index, :].copy()\n",
    "uplift_q_50 = df_data_lift.uplift_score.quantile(0.5)\n",
    "df_data_lift = df_data_lift[(df_data_lift.offer != 'Buy One Get One') & (df_data_lift.uplift_score < uplift_q_50)].reset_index(drop=True)"
   ]
  },
  {
   "cell_type": "code",
   "execution_count": 77,
   "metadata": {},
   "outputs": [
    {
     "name": "stdout",
     "output_type": "stream",
     "text": [
      "Total Targeted Customer Count: 2135\n",
      "Discount Conversion Uplift: 7.07%\n",
      "Discount Order Uplift: 150.97\n",
      "Discount Revenue Uplift: $3774.19\n",
      "Revenue Uplift Per Targeted Customer: $1.77\n",
      "\n"
     ]
    }
   ],
   "source": [
    "#calculate the uplift\n",
    "calc_uplift(df_data_lift)"
   ]
  },
  {
   "cell_type": "markdown",
   "metadata": {},
   "source": [
    "Revenue uplift per targeted customer in lower 0.5 quantile decreased compared to the benchmark, but not drasticaly. Fitted model cannot discriminate well users that we want to target with promotional campaigns."
   ]
  }
 ],
 "metadata": {
  "jupytext": {
   "text_representation": {
    "extension": ".py",
    "format_name": "percent",
    "format_version": "1.3",
    "jupytext_version": "1.6.0"
   }
  },
  "kernelspec": {
   "display_name": "Python 3",
   "language": "python",
   "name": "python3"
  },
  "language_info": {
   "codemirror_mode": {
    "name": "ipython",
    "version": 3
   },
   "file_extension": ".py",
   "mimetype": "text/x-python",
   "name": "python",
   "nbconvert_exporter": "python",
   "pygments_lexer": "ipython3",
   "version": "3.7.6"
  }
 },
 "nbformat": 4,
 "nbformat_minor": 4
}
